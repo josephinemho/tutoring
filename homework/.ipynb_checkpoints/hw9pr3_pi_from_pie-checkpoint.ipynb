{
 "cells": [
  {
   "cell_type": "markdown",
   "metadata": {},
   "source": [
    "# hw9pr3.py (Pi from Pie)\n",
    "https://www.cs.hmc.edu/twiki/bin/view/CS5/PiFromPieGold"
   ]
  },
  {
   "cell_type": "markdown",
   "metadata": {},
   "source": [
    "Imagine a circle inscribed within a square that spans the area where *-1 ≤ x ≤ 1* and *-1 ≤ y ≤ 1*. The area of the inscribed circle, whose radius is *1.0* would be *n*.\n",
    "\n",
    "If you were to throw darts at random locations in the square, only some of them would hit the circle inscribed within it. The ratio\n",
    "\n",
    "*area of the circle / area of the square*\n",
    "\n",
    "can be estimated by the ratio\n",
    "\n",
    "\n",
    "*number of darts that hit the circle / total number of darts thrown*\n",
    "\n",
    "As the number of darts increases, the second ratio, above, gets closer and closer to the first ratio. Since three of the four quantities involved are known, they can be used to approximate the area of the circle—this in turn can be used to approximate π."
   ]
  },
  {
   "cell_type": "code",
   "execution_count": 1,
   "metadata": {},
   "outputs": [],
   "source": [
    "# We'll need to randomly generate x and y coordinates between -1.0 and 1.0\n",
    "\n",
    "import random"
   ]
  },
  {
   "cell_type": "code",
   "execution_count": 2,
   "metadata": {},
   "outputs": [
    {
     "data": {
      "text/plain": [
       "0.6005666845161628"
      ]
     },
     "execution_count": 2,
     "metadata": {},
     "output_type": "execute_result"
    }
   ],
   "source": [
    "# Remember to use shift + tab to see what the function random.uniform() does\n",
    "\n",
    "random.uniform(-1.0, 1.0)"
   ]
  },
  {
   "cell_type": "code",
   "execution_count": 3,
   "metadata": {},
   "outputs": [],
   "source": [
    "x = random.uniform(-1.0, 1.0)"
   ]
  },
  {
   "cell_type": "markdown",
   "metadata": {},
   "source": [
    "## Helper function to write:    `throwDart()`\n",
    "* Throws one \"dart\" at the square by generating getting a random x and a random y coordinate between -1 and 1\n",
    "* Determines whether that dart is within the circle of radius 1 centered at the origin\n",
    "* Returns True if the dart hits the circle and False if the dart misses the circle\n",
    "* Remember that the dart will always hit the square, by the way the throw is designed...\n",
    "\n",
    "\n",
    "Imagine that you have a square with sides of length 2 that spans the region of the Cartesian plane in which -1 ≤ x ≤ 1 and -1 ≤ y ≤ 1. If you inscribe a circle within that square, the circle will have a radius of 1, and thus its area will be π."
   ]
  },
  {
   "cell_type": "code",
   "execution_count": 4,
   "metadata": {},
   "outputs": [],
   "source": [
    "def throwDart():\n",
    "    \"\"\"\n",
    "    Simulates the throwing of a random dart at a 2 x 2 square\n",
    "    with a circle of a radius=1. Returns True if the dart hits the circle\n",
    "    inscribed in the square, and False if the dart misses the circle.\n",
    "    \"\"\"\n",
    "    x = random.uniform(-1.0, 1.0) # Throw one 'dart' at the square by generating a random x and y coordinate\n",
    "    y = random.uniform(-1.0, 1.0) \n",
    "    if x**2 + y**2 <= 1.0:        # If x and y are within the circle (radius 1), return True, else False\n",
    "        return True\n",
    "    else:\n",
    "        return False"
   ]
  },
  {
   "cell_type": "code",
   "execution_count": 17,
   "metadata": {},
   "outputs": [
    {
     "data": {
      "text/plain": [
       "False"
      ]
     },
     "execution_count": 17,
     "metadata": {},
     "output_type": "execute_result"
    }
   ],
   "source": [
    "throwDart()"
   ]
  },
  {
   "cell_type": "markdown",
   "metadata": {},
   "source": [
    "## Main function to write #1:    `forPi(n)`\n",
    "Your `forPi(n)` function will accept a positive integer *n*.\n",
    "\n",
    "It should \"throw\" *n* darts at the square.\n",
    "\n",
    "Each time a dart is thrown, the function should print:\n",
    "\n",
    "* The number of darts thrown so far.\n",
    "* The number of darts thrown so far that have hit the circle.\n",
    "* The resulting estimate of π."
   ]
  },
  {
   "cell_type": "code",
   "execution_count": 51,
   "metadata": {},
   "outputs": [],
   "source": [
    "def forPi(n):\n",
    "    hits = 0\n",
    "    for i in range(1,n+1):\n",
    "        result = throwDart()\n",
    "        if result == True:\n",
    "            hits +=1\n",
    "        pi = 4.0*hits/i\n",
    "        print(str(hits) + \" hits out of \"+str(i)+\" throws so that pi is \"+str(pi))\n",
    "    return 4.0*hits/i"
   ]
  },
  {
   "cell_type": "code",
   "execution_count": 52,
   "metadata": {},
   "outputs": [
    {
     "name": "stdout",
     "output_type": "stream",
     "text": [
      "1 hits out of 1 throws so that pi is 4.0\n",
      "1 hits out of 2 throws so that pi is 2.0\n",
      "2 hits out of 3 throws so that pi is 2.6666666666666665\n",
      "3 hits out of 4 throws so that pi is 3.0\n",
      "4 hits out of 5 throws so that pi is 3.2\n",
      "5 hits out of 6 throws so that pi is 3.3333333333333335\n",
      "6 hits out of 7 throws so that pi is 3.4285714285714284\n",
      "7 hits out of 8 throws so that pi is 3.5\n",
      "8 hits out of 9 throws so that pi is 3.5555555555555554\n",
      "8 hits out of 10 throws so that pi is 3.2\n"
     ]
    },
    {
     "data": {
      "text/plain": [
       "3.2"
      ]
     },
     "execution_count": 52,
     "metadata": {},
     "output_type": "execute_result"
    }
   ],
   "source": [
    "forPi(10)"
   ]
  },
  {
   "cell_type": "markdown",
   "metadata": {},
   "source": [
    "## Main function to write #2:    `whilePi(error)`\n",
    "Your whilePi(error) function will accept a positive floating-point value, error.\n",
    "\n",
    "It should then proceed to throw darts at the dartboard (the square) until the absolute difference between the function's estimate of π and the real value of π is less than error.\n",
    "\n",
    "Your whilePi function requires the actual, known value of π in order to determine whether or not its estimate is within the error range! Although this would not be available for estimating a truly unknown constant, for this function you include the line `import math`in your code and then use the value of `math.pi` as the actual value of n.\n",
    "Similar to your `forPi` function, for each dart throw your `whilePi` function should print:\n",
    "\n",
    "* The number of darts thrown so far\n",
    "* The number of darts thrown so far that have hit the circle\n",
    "* The resulting estimate of π\n"
   ]
  },
  {
   "cell_type": "code",
   "execution_count": 53,
   "metadata": {},
   "outputs": [],
   "source": [
    "import math"
   ]
  },
  {
   "cell_type": "code",
   "execution_count": 54,
   "metadata": {},
   "outputs": [
    {
     "data": {
      "text/plain": [
       "3.141592653589793"
      ]
     },
     "execution_count": 54,
     "metadata": {},
     "output_type": "execute_result"
    }
   ],
   "source": [
    "math.pi"
   ]
  },
  {
   "cell_type": "code",
   "execution_count": 102,
   "metadata": {},
   "outputs": [],
   "source": [
    "def whilePi(error):\n",
    "    hits = 0\n",
    "    throws = 0\n",
    "    pi = math.pi\n",
    "    while throws == 0 or abs(hits/throws*4 - pi) > error:\n",
    "        hits +=1.0 if throwDart() else 0.0\n",
    "        throws +=1\n",
    "        print(str(hits)+ \" hits out of \"+str(throws)+\" throws so that pi is \"+str(hits/throws*4))\n",
    "    return throws"
   ]
  },
  {
   "cell_type": "code",
   "execution_count": 109,
   "metadata": {
    "scrolled": true
   },
   "outputs": [
    {
     "name": "stdout",
     "output_type": "stream",
     "text": [
      "0.0 hits out of 1 throws so that pi is 0.0\n",
      "1.0 hits out of 2 throws so that pi is 2.0\n"
     ]
    },
    {
     "data": {
      "text/plain": [
       "2"
      ]
     },
     "execution_count": 109,
     "metadata": {},
     "output_type": "execute_result"
    }
   ],
   "source": [
    "whilePi(2)"
   ]
  },
  {
   "cell_type": "code",
   "execution_count": 110,
   "metadata": {
    "scrolled": true
   },
   "outputs": [
    {
     "name": "stdout",
     "output_type": "stream",
     "text": [
      "1.0 hits out of 1 throws so that pi is 4.0\n"
     ]
    },
    {
     "data": {
      "text/plain": [
       "1"
      ]
     },
     "execution_count": 110,
     "metadata": {},
     "output_type": "execute_result"
    }
   ],
   "source": [
    "whilePi(2)"
   ]
  }
 ],
 "metadata": {
  "kernelspec": {
   "display_name": "Python 3",
   "language": "python",
   "name": "python3"
  },
  "language_info": {
   "codemirror_mode": {
    "name": "ipython",
    "version": 3
   },
   "file_extension": ".py",
   "mimetype": "text/x-python",
   "name": "python",
   "nbconvert_exporter": "python",
   "pygments_lexer": "ipython3",
   "version": "3.6.3"
  }
 },
 "nbformat": 4,
 "nbformat_minor": 2
}
