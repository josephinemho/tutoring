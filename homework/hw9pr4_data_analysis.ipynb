{
 "cells": [
  {
   "cell_type": "markdown",
   "metadata": {},
   "source": [
    "# hw9pr4.py (Data Analysis)\n",
    "https://www.cs.hmc.edu/twiki/bin/view/CS5/TTSecuritiesGold"
   ]
  },
  {
   "cell_type": "markdown",
   "metadata": {},
   "source": [
    "## Looping function to write #1: `power(b,p)`\n",
    "\n",
    "Paste this function (and comments) into a new file named hw7pr5.py (we are saving it in the \"lib\" directory: /lib)\n",
    "```\n",
    "#\n",
    "# hw7pr5.py - Intro to loops!\n",
    "#\n",
    "# Name:\n",
    "#\n",
    "def fac(n):\n",
    "    \"\"\"Loop-based factorial function\n",
    "       Argument: a nonnegative integer, n\n",
    "       Return value: the factorial of n\n",
    "    \"\"\"\n",
    "    result = 1                 # starting value - like a base case\n",
    "    for x in range(1,n+1):     # loop from 1 to n, inclusive\n",
    "        result = result * x    # update the result by mult. by x\n",
    "    return result              # notice this is AFTER the loop!\n",
    "\n",
    "#\n",
    "# Tests for looping factorial\n",
    "#\n",
    "assert fac(0) == 1\n",
    "assert fac(5) == 120\n",
    "```"
   ]
  }
 ],
 "metadata": {
  "kernelspec": {
   "display_name": "Python 3",
   "language": "python",
   "name": "python3"
  },
  "language_info": {
   "codemirror_mode": {
    "name": "ipython",
    "version": 3
   },
   "file_extension": ".py",
   "mimetype": "text/x-python",
   "name": "python",
   "nbconvert_exporter": "python",
   "pygments_lexer": "ipython3",
   "version": "3.6.3"
  }
 },
 "nbformat": 4,
 "nbformat_minor": 2
}
