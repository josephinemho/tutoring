{
 "cells": [
  {
   "cell_type": "markdown",
   "metadata": {},
   "source": [
    "# hw9pr4.py (Data Analysis)\n",
    "https://www.cs.hmc.edu/twiki/bin/view/CS5/TTSecuritiesGold"
   ]
  },
  {
   "cell_type": "markdown",
   "metadata": {},
   "source": [
    "### Starter code"
   ]
  },
  {
   "cell_type": "code",
   "execution_count": 4,
   "metadata": {},
   "outputs": [],
   "source": [
    "#\n",
    "# Example user-interaction looping program\n",
    "#  (a variant of the one done in class)\n",
    "#\n",
    "\n",
    "def menu():\n",
    "    \"\"\"A function that simply prints the menu\"\"\"\n",
    "    print()\n",
    "    print(\"(0) Continue!\")\n",
    "    print(\"(1) Enter a new list\")\n",
    "    print(\"(2) Predict the next element\")\n",
    "    print(\"(9) Break! (quit)\")\n",
    "    print()\n",
    "\n",
    "def predict(L):\n",
    "    \"\"\"Predict ignores its argument and returns\n",
    "       what the next element should have been.\n",
    "    \"\"\"\n",
    "    return 42\n",
    "\n",
    "def find_min(L):\n",
    "    \"\"\"find min uses a loop to return the minimum of L.\n",
    "       Argument L: a nonempty list of numbers.\n",
    "       Return value: the smallest value in L.\n",
    "    \"\"\"\n",
    "    result = L[0]\n",
    "    for x in L:\n",
    "        if x < result:\n",
    "            result = x\n",
    "    return result\n",
    "\n",
    "def find_min_loc(L):\n",
    "    \"\"\"find min loc uses a loop to return the minimum of L\n",
    "            and the location (index or day) of that minimum.\n",
    "        Argument L: a nonempty list of numbers.\n",
    "        Results:  the smallest value in L, its location (index)\n",
    "    \"\"\"\n",
    "    minval = L[0]\n",
    "    minloc = 0\n",
    "\n",
    "    for i in list(range(len(L))):\n",
    "        if L[i] < minval:  # a smaller one was found!\n",
    "            minval = L[i]\n",
    "            minloc = i\n",
    "\n",
    "    return minval, minloc\n",
    "\n",
    "def main():\n",
    "    \"\"\"The main user-interaction loop\"\"\"\n",
    "    secret_value = 4.2\n",
    "\n",
    "    L = [30, 10, 20]  # an initial list\n",
    "\n",
    "    while True:     # the user-interaction loop\n",
    "        print(\"\\n\\nThe list is\", L)\n",
    "        menu()\n",
    "        choice = input(\"Choose an option: \")\n",
    "\n",
    "        #\n",
    "        # \"Clean and check\" the user's input\n",
    "        # \n",
    "        try:\n",
    "            choice = int(choice)   # make into an int!\n",
    "        except:\n",
    "            print(\"I didn't understand your input! Continuing...\")\n",
    "            continue\n",
    "\n",
    "        # run the appropriate menu option\n",
    "        #\n",
    "        if choice == 9:    # We want to quit\n",
    "            break          # Leaves the while loop altogether\n",
    "\n",
    "        elif choice == 0:  # We want to continue...\n",
    "            continue       # Goes back to the top of the while loop\n",
    "\n",
    "        elif choice == 1:  # We want to enter a new list\n",
    "            newL = input(\"Enter a new list: \")    # enter _something_\n",
    "            \n",
    "            #\n",
    "            # \"Clean and check\" the user's input\n",
    "            #\n",
    "            try: \n",
    "                newL = eval(newL)   # eval runs Python's interpreter! Note: Danger!\n",
    "                if type(newL) != type([]): \n",
    "                    print(\"That didn't seem like a list. Not changing L.\")\n",
    "                else: \n",
    "                    L = newL  # Here, things were OK, so let's set our list, L\n",
    "            except:\n",
    "                print(\"I didn't understand your input. Not changing L.\")\n",
    "\n",
    "        elif choice == 2:  # Predict and add the next element\n",
    "            n = predict(L) # Get the next element from the predict function\n",
    "            print(\"The next element is\", n)\n",
    "            print(\"Adding it to your list...\")\n",
    "            L = L + [n]    # ...and add it to the list\n",
    "\n",
    "        elif choice == 3:  # Unannounced menu option!\n",
    "            pass       # this is the \"nop\" (do-nothing) statement in Python\n",
    "\n",
    "        elif choice == 4:  # Unannounced menu option (slightly more interesting...)\n",
    "            m = find_min(L)\n",
    "            print(\"The minimum value in L is\", m)\n",
    "\n",
    "        elif choice == 5:  # Another unannounced menu option (even more interesting...)\n",
    "            minval, minloc = find_min_loc(L)\n",
    "            print(\"The minimum value in L is\", minval, \"at day #\", minloc)\n",
    "\n",
    "        else:\n",
    "            print(choice, \" ?      That's not on the menu!\")\n",
    "\n",
    "    print()\n",
    "    print(\"See you yesterday!\")\n"
   ]
  },
  {
   "cell_type": "code",
   "execution_count": 3,
   "metadata": {
    "scrolled": true
   },
   "outputs": [
    {
     "name": "stdout",
     "output_type": "stream",
     "text": [
      "\n",
      "(0) Continue!\n",
      "(1) Enter a new list\n",
      "(2) Predict the next element\n",
      "(9) Break! (quit)\n",
      "\n"
     ]
    }
   ],
   "source": [
    "# Check out the helper functions\n",
    "\n",
    "menu()"
   ]
  },
  {
   "cell_type": "code",
   "execution_count": 6,
   "metadata": {},
   "outputs": [
    {
     "name": "stdout",
     "output_type": "stream",
     "text": [
      "\n",
      "\n",
      "The list is [30, 10, 20]\n",
      "\n",
      "(0) Continue!\n",
      "(1) Enter a new list\n",
      "(2) Predict the next element\n",
      "(9) Break! (quit)\n",
      "\n",
      "Choose an option: 0\n",
      "\n",
      "\n",
      "The list is [30, 10, 20]\n",
      "\n",
      "(0) Continue!\n",
      "(1) Enter a new list\n",
      "(2) Predict the next element\n",
      "(9) Break! (quit)\n",
      "\n",
      "Choose an option: 1\n",
      "Enter a new list: [1,2,3]\n",
      "\n",
      "\n",
      "The list is [1, 2, 3]\n",
      "\n",
      "(0) Continue!\n",
      "(1) Enter a new list\n",
      "(2) Predict the next element\n",
      "(9) Break! (quit)\n",
      "\n",
      "Choose an option: 2\n",
      "The next element is 42\n",
      "Adding it to your list...\n",
      "\n",
      "\n",
      "The list is [1, 2, 3, 42]\n",
      "\n",
      "(0) Continue!\n",
      "(1) Enter a new list\n",
      "(2) Predict the next element\n",
      "(9) Break! (quit)\n",
      "\n",
      "Choose an option: 2\n",
      "The next element is 42\n",
      "Adding it to your list...\n",
      "\n",
      "\n",
      "The list is [1, 2, 3, 42, 42]\n",
      "\n",
      "(0) Continue!\n",
      "(1) Enter a new list\n",
      "(2) Predict the next element\n",
      "(9) Break! (quit)\n",
      "\n",
      "Choose an option: 9\n",
      "\n",
      "See you yesterday!\n"
     ]
    }
   ],
   "source": [
    "# Play around with the primary function\n",
    "\n",
    "main()"
   ]
  },
  {
   "cell_type": "markdown",
   "metadata": {},
   "source": [
    "### Formatting neatly\n",
    "Play around with the formatting.\n",
    "* Input #0 = \"Day\"\n",
    "* Input #1 = \"Price\"\n",
    "* Right-justified with spaces"
   ]
  },
  {
   "cell_type": "code",
   "execution_count": 21,
   "metadata": {},
   "outputs": [
    {
     "name": "stdout",
     "output_type": "stream",
     "text": [
      " Day : $  Price\n"
     ]
    }
   ],
   "source": [
    "print(\"{0: >4} : $ {1: >6}\".format(\"Day\", \"Price\"))"
   ]
  },
  {
   "cell_type": "code",
   "execution_count": 24,
   "metadata": {},
   "outputs": [
    {
     "name": "stdout",
     "output_type": "stream",
     "text": [
      "Day : $  Price\n"
     ]
    }
   ],
   "source": [
    "print(\"{0: >0} : $ {1: >6}\".format(\"Day\", \"Price\"))"
   ]
  },
  {
   "cell_type": "code",
   "execution_count": 25,
   "metadata": {},
   "outputs": [
    {
     "name": "stdout",
     "output_type": "stream",
     "text": [
      "       Day : $      Price\n"
     ]
    }
   ],
   "source": [
    "print(\"{0: >10} : $ {1: >10}\".format(\"Day\", \"Price\"))"
   ]
  },
  {
   "cell_type": "markdown",
   "metadata": {},
   "source": [
    "For this problem, you will implement a (text-based) menu of options for analyzing a list of stock prices (or any list of floating-point values).\n",
    "\n",
    "The top-level function to write for this problem is called main(). Note that it takes no arguments. Instead, it should offer the user a menu with these choices:\n",
    "\n",
    "```\n",
    "(0) Input a new list\n",
    "(1) Print the current list\n",
    "(2) Find the average price\n",
    "(3) Find the standard deviation\n",
    "(4) Find the minimum and its day\n",
    "(5) Find the maximum and its day\n",
    "(6) Your TT investment plan\n",
    "(9) Quit\n",
    "\n",
    "Enter your choice:\n",
    "```\n",
    "\n",
    "Once the menu is presented, the program should wait for the user's input. (You may assume that the user will type an integer as input.) The function should then\n",
    "\n",
    "* Print a warning message if the integer is not a valid menu option\n",
    "* Quit if the user inputs 9\n",
    "* Allow the user to input a new list of stock prices, if the user selects choice 0\n",
    "* Print a table of days and prices, with labels, if the user selects choice 1\n",
    "* Compute the appropriate statistics about the list for choices 2-6\n",
    "* For any option except 9, the function should reprompt the user with the menu after each choice. \n",
    "\n"
   ]
  },
  {
   "cell_type": "code",
   "execution_count": 1,
   "metadata": {},
   "outputs": [],
   "source": [
    "# First, start with the menu function\n",
    "\n",
    "def menu():\n",
    "    print()\n",
    "    print(\"(0) Input a new list\")\n",
    "    print(\"(1) Print the current list\")\n",
    "    print(\"(2) Find the average price\")\n",
    "    print(\"(3) Find the standard deviation\")\n",
    "    print(\"(4) Find the minimum and its day\")\n",
    "    print(\"(5) Find the maximum and its day\")\n",
    "    print(\"(6) Your TT investment plan\")\n",
    "    print(\"(9) Quit\")\n",
    "    print()"
   ]
  },
  {
   "cell_type": "code",
   "execution_count": 2,
   "metadata": {},
   "outputs": [
    {
     "name": "stdout",
     "output_type": "stream",
     "text": [
      "\n",
      "(0) Input a new list\n",
      "(1) Print the current list\n",
      "(2) Find the average price\n",
      "(3) Find the standard deviation\n",
      "(4) Find the minimum and its day\n",
      "(5) Find the maximum and its day\n",
      "(6) Your TT investment plan\n",
      "(9) Quit\n",
      "\n"
     ]
    }
   ],
   "source": [
    "menu()"
   ]
  },
  {
   "cell_type": "code",
   "execution_count": 3,
   "metadata": {},
   "outputs": [],
   "source": [
    "# Now write your other functions using this list as a test\n",
    "\n",
    "test = [1.5,27,32.4,4.53]"
   ]
  },
  {
   "cell_type": "code",
   "execution_count": 29,
   "metadata": {
    "scrolled": true
   },
   "outputs": [],
   "source": [
    "# Print the current list in a table format\n",
    "\n",
    "def print_table(some_list):\n",
    "    print(\"Day\\t|Price\\t|\")\n",
    "    print(\"------\\t|------\\t|\")\n",
    "    for i,j in enumerate(test):\n",
    "       print(\"{0}\\t|{1}\\t|\".format(i, j))"
   ]
  },
  {
   "cell_type": "code",
   "execution_count": 58,
   "metadata": {},
   "outputs": [
    {
     "name": "stdout",
     "output_type": "stream",
     "text": [
      "Day\t|Price\t|\n",
      "------\t|------\t|\n",
      "0\t|1.5\t|\n",
      "1\t|27\t|\n",
      "2\t|32.4\t|\n",
      "3\t|4.53\t|\n"
     ]
    }
   ],
   "source": [
    "print_table(test)"
   ]
  },
  {
   "cell_type": "code",
   "execution_count": 42,
   "metadata": {},
   "outputs": [],
   "source": [
    "# Calculate the mean/average\n",
    "\n",
    "def cal_avg(some_list):\n",
    "    print(\"The average price is\", round(sum(some_list)/len(some_list),1))"
   ]
  },
  {
   "cell_type": "code",
   "execution_count": 43,
   "metadata": {},
   "outputs": [
    {
     "name": "stdout",
     "output_type": "stream",
     "text": [
      "The average price is 16.4\n"
     ]
    }
   ],
   "source": [
    "cal_avg(test)"
   ]
  },
  {
   "cell_type": "markdown",
   "metadata": {},
   "source": [
    "To calculate the standard deviation:\n",
    "1. Calculate the mean\n",
    "2. Then for each number, subtract the mean and square the result\n",
    "3. Then work out the mean of those squared differences\n",
    "4. Take the square root of that\n",
    "\n",
    "Double-check your formula is correct: http://www.calculator.net/standard-deviation-calculator.html"
   ]
  },
  {
   "cell_type": "code",
   "execution_count": 46,
   "metadata": {},
   "outputs": [],
   "source": [
    "# Calculate the standard deviation\n",
    "\n",
    "def cal_std(some_list):\n",
    "    mean = sum(some_list)/len(some_list)\n",
    "    ss_list = []\n",
    "    for i in some_list:\n",
    "        ss = (i-mean)**2\n",
    "        ss_list.append(ss)\n",
    "    sum_of_square = sum(ss_list)\n",
    "    print(\"The standard deviation is\", round(sum_of_square/len(some_list))**0.5)"
   ]
  },
  {
   "cell_type": "code",
   "execution_count": 47,
   "metadata": {},
   "outputs": [
    {
     "name": "stdout",
     "output_type": "stream",
     "text": [
      "The standard deviation is 13.527749258468683\n"
     ]
    }
   ],
   "source": [
    "cal_std(test)"
   ]
  },
  {
   "cell_type": "code",
   "execution_count": 113,
   "metadata": {},
   "outputs": [],
   "source": [
    "# Find the min and its day\n",
    "\n",
    "def find_min(some_list):\n",
    "    result = some_list[0]\n",
    "    day = 0\n",
    "    for i,j in enumerate(some_list):\n",
    "        if j < result:\n",
    "            result = j\n",
    "            day = i\n",
    "    return result, day"
   ]
  },
  {
   "cell_type": "code",
   "execution_count": 114,
   "metadata": {},
   "outputs": [
    {
     "data": {
      "text/plain": [
       "(1.5, 0)"
      ]
     },
     "execution_count": 114,
     "metadata": {},
     "output_type": "execute_result"
    }
   ],
   "source": [
    "find_min(test)"
   ]
  },
  {
   "cell_type": "code",
   "execution_count": 127,
   "metadata": {},
   "outputs": [],
   "source": [
    "# Find the max and its day\n",
    "\n",
    "def find_max(some_list):\n",
    "    result = some_list[0]\n",
    "    day = 0\n",
    "    for i,j in enumerate(some_list):\n",
    "        if j > result:\n",
    "            result = j\n",
    "            day = i\n",
    "    return result, day"
   ]
  },
  {
   "cell_type": "code",
   "execution_count": 128,
   "metadata": {},
   "outputs": [
    {
     "data": {
      "text/plain": [
       "(32.4, 2)"
      ]
     },
     "execution_count": 128,
     "metadata": {},
     "output_type": "execute_result"
    }
   ],
   "source": [
    "find_max(test)"
   ]
  },
  {
   "cell_type": "code",
   "execution_count": 129,
   "metadata": {},
   "outputs": [],
   "source": [
    "# Your TT investment plan\n",
    "\n",
    "def tt(some_list):\n",
    "    print(\"If you wanna get rich,\")\n",
    "    print(\"Buy on day {1} at {0}\".format(find_min(test)[:1],find_min(test)[1:]))\n",
    "    print(\"Sell on day {1} at {0}\".format(find_max(test)[:1],find_max(test)[1:]))"
   ]
  },
  {
   "cell_type": "code",
   "execution_count": 130,
   "metadata": {},
   "outputs": [
    {
     "name": "stdout",
     "output_type": "stream",
     "text": [
      "If you wanna get rich,\n",
      "Buy on day (0,) at (1.5,)\n",
      "Sell on day (2,) at (32.4,)\n"
     ]
    }
   ],
   "source": [
    "tt(test)"
   ]
  },
  {
   "cell_type": "code",
   "execution_count": 133,
   "metadata": {},
   "outputs": [],
   "source": [
    "def main():\n",
    "    L = [1.5,27,32.4,4.53]  # an initial list\n",
    "\n",
    "    while True:     # the user-interaction loop\n",
    "        print(\"\\n\\nThis is your list: \", L)\n",
    "        menu()\n",
    "        choice = input(\"Pick something from the menu: \")\n",
    "\n",
    "        # \"Clean and check\" the user's input\n",
    "\n",
    "        try:\n",
    "            choice = int(choice)   # make into an int!\n",
    "        except:\n",
    "            print(\"Sorry, that input is invalid. Continuing...\")\n",
    "            continue\n",
    "\n",
    "        # run the appropriate menu option\n",
    "\n",
    "        if choice == 9:    # We want to quit\n",
    "            break          # Leaves the while loop altogether\n",
    "\n",
    "        elif choice == 0:  # We want to enter a new list\n",
    "            newL = input(\"Enter a new list: \")    # enter _something_\n",
    "            \n",
    "            # \"Clean and check\" the user's input\n",
    "\n",
    "            try: \n",
    "                newL = eval(newL)   # eval runs Python's interpreter! Note: Danger!\n",
    "                if type(newL) != type([]): \n",
    "                    print(\"That didn't seem like a list. Not changing L.\")\n",
    "                else: \n",
    "                    L = newL  # Here, things were OK, so let's set our list, L\n",
    "            except:\n",
    "                print(\"I didn't understand your input. Not changing L.\")\n",
    "\n",
    "        elif choice == 1:  # Print the current list in table format\n",
    "            print_table(L)\n",
    "\n",
    "        elif choice == 2:  # Find the average price\n",
    "            cal_avg(L)\n",
    "\n",
    "        elif choice == 3:  # Find the standard deviation\n",
    "            cal_std(L)\n",
    "\n",
    "        elif choice == 4:  # Find the min and its day\n",
    "            find_min(L)\n",
    "            print(\"The min is {0} on day {1}\".format(find_min(L)[:1],find_min(L)[1:]))\n",
    "\n",
    "        elif choice == 5:  # Find the max and its day\n",
    "            find_max(L)\n",
    "            print(\"The max is {0} on day {1}\".format(find_max(L)[:1],find_max(L)[1:]))\n",
    "            \n",
    "        elif choice == 6:  # Your TT investment plan\n",
    "            tt(L)\n",
    "\n",
    "        else:\n",
    "            print(choice, \" ?      That's not on the menu!\")\n",
    "\n",
    "    print()\n",
    "    print(\"Adios!\")\n"
   ]
  },
  {
   "cell_type": "code",
   "execution_count": 134,
   "metadata": {},
   "outputs": [
    {
     "name": "stdout",
     "output_type": "stream",
     "text": [
      "\n",
      "\n",
      "This is your list:  [1.5, 27, 32.4, 4.53]\n",
      "\n",
      "(0) Input a new list\n",
      "(1) Print the current list\n",
      "(2) Find the average price\n",
      "(3) Find the standard deviation\n",
      "(4) Find the minimum and its day\n",
      "(5) Find the maximum and its day\n",
      "(6) Your TT investment plan\n",
      "(9) Quit\n",
      "\n",
      "Pick something from the menu: 0\n",
      "Enter a new list: [2,4,6]\n",
      "\n",
      "\n",
      "This is your list:  [2, 4, 6]\n",
      "\n",
      "(0) Input a new list\n",
      "(1) Print the current list\n",
      "(2) Find the average price\n",
      "(3) Find the standard deviation\n",
      "(4) Find the minimum and its day\n",
      "(5) Find the maximum and its day\n",
      "(6) Your TT investment plan\n",
      "(9) Quit\n",
      "\n",
      "Pick something from the menu: 1\n",
      "Day\t|Price\t|\n",
      "------\t|------\t|\n",
      "0\t|1.5\t|\n",
      "1\t|27\t|\n",
      "2\t|32.4\t|\n",
      "3\t|4.53\t|\n",
      "\n",
      "\n",
      "This is your list:  [2, 4, 6]\n",
      "\n",
      "(0) Input a new list\n",
      "(1) Print the current list\n",
      "(2) Find the average price\n",
      "(3) Find the standard deviation\n",
      "(4) Find the minimum and its day\n",
      "(5) Find the maximum and its day\n",
      "(6) Your TT investment plan\n",
      "(9) Quit\n",
      "\n",
      "Pick something from the menu: 2\n",
      "The average price is 4.0\n",
      "\n",
      "\n",
      "This is your list:  [2, 4, 6]\n",
      "\n",
      "(0) Input a new list\n",
      "(1) Print the current list\n",
      "(2) Find the average price\n",
      "(3) Find the standard deviation\n",
      "(4) Find the minimum and its day\n",
      "(5) Find the maximum and its day\n",
      "(6) Your TT investment plan\n",
      "(9) Quit\n",
      "\n",
      "Pick something from the menu: 3\n",
      "The standard deviation is 1.7320508075688772\n",
      "\n",
      "\n",
      "This is your list:  [2, 4, 6]\n",
      "\n",
      "(0) Input a new list\n",
      "(1) Print the current list\n",
      "(2) Find the average price\n",
      "(3) Find the standard deviation\n",
      "(4) Find the minimum and its day\n",
      "(5) Find the maximum and its day\n",
      "(6) Your TT investment plan\n",
      "(9) Quit\n",
      "\n",
      "Pick something from the menu: 4\n",
      "The min is (2,) on day (0,)\n",
      "\n",
      "\n",
      "This is your list:  [2, 4, 6]\n",
      "\n",
      "(0) Input a new list\n",
      "(1) Print the current list\n",
      "(2) Find the average price\n",
      "(3) Find the standard deviation\n",
      "(4) Find the minimum and its day\n",
      "(5) Find the maximum and its day\n",
      "(6) Your TT investment plan\n",
      "(9) Quit\n",
      "\n",
      "Pick something from the menu: 5\n",
      "The max is (6,) on day (2,)\n",
      "\n",
      "\n",
      "This is your list:  [2, 4, 6]\n",
      "\n",
      "(0) Input a new list\n",
      "(1) Print the current list\n",
      "(2) Find the average price\n",
      "(3) Find the standard deviation\n",
      "(4) Find the minimum and its day\n",
      "(5) Find the maximum and its day\n",
      "(6) Your TT investment plan\n",
      "(9) Quit\n",
      "\n",
      "Pick something from the menu: 6\n",
      "If you wanna get rich,\n",
      "Buy on day (0,) at (1.5,)\n",
      "Sell on day (2,) at (32.4,)\n",
      "\n",
      "\n",
      "This is your list:  [2, 4, 6]\n",
      "\n",
      "(0) Input a new list\n",
      "(1) Print the current list\n",
      "(2) Find the average price\n",
      "(3) Find the standard deviation\n",
      "(4) Find the minimum and its day\n",
      "(5) Find the maximum and its day\n",
      "(6) Your TT investment plan\n",
      "(9) Quit\n",
      "\n",
      "Pick something from the menu: 9\n",
      "\n",
      "Adios!\n"
     ]
    }
   ],
   "source": [
    "main()"
   ]
  }
 ],
 "metadata": {
  "kernelspec": {
   "display_name": "Python 3",
   "language": "python",
   "name": "python3"
  },
  "language_info": {
   "codemirror_mode": {
    "name": "ipython",
    "version": 3
   },
   "file_extension": ".py",
   "mimetype": "text/x-python",
   "name": "python",
   "nbconvert_exporter": "python",
   "pygments_lexer": "ipython3",
   "version": "3.6.3"
  }
 },
 "nbformat": 4,
 "nbformat_minor": 2
}
