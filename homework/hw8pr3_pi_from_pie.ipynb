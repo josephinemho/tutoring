{
 "cells": [
  {
   "cell_type": "markdown",
   "metadata": {},
   "source": [
    "# hw6pr5.py (Loopy Python)\n",
    "https://www.cs.hmc.edu/twiki/bin/view/CS5/PiFromPieGold"
   ]
  },
  {
   "cell_type": "markdown",
   "metadata": {},
   "source": [
    "## Looping function to write #1: `power(b,p)`\n",
    "\n",
    "Paste this function (and comments) into a new file named hw7pr5.py (we are saving it in the \"lib\" directory: /lib)\n",
    "```\n",
    "#\n",
    "# hw7pr5.py - Intro to loops!\n",
    "#\n",
    "# Name:\n",
    "#\n",
    "def fac(n):\n",
    "    \"\"\"Loop-based factorial function\n",
    "       Argument: a nonnegative integer, n\n",
    "       Return value: the factorial of n\n",
    "    \"\"\"\n",
    "    result = 1                 # starting value - like a base case\n",
    "    for x in range(1,n+1):     # loop from 1 to n, inclusive\n",
    "        result = result * x    # update the result by mult. by x\n",
    "    return result              # notice this is AFTER the loop!\n",
    "\n",
    "#\n",
    "# Tests for looping factorial\n",
    "#\n",
    "assert fac(0) == 1\n",
    "assert fac(5) == 120\n",
    "```"
   ]
  },
  {
   "cell_type": "code",
   "execution_count": 4,
   "metadata": {},
   "outputs": [],
   "source": [
    "# Read over and run the above starter file. You should see the tests pass with the expected results.\n",
    "\n",
    "from lib import hw6pr5"
   ]
  },
  {
   "cell_type": "markdown",
   "metadata": {},
   "source": [
    "Create a new function, based on that model, named power(b, p), which should:\n",
    "\n",
    "* Accept any numeric value (base) b\n",
    "* Accept any nonnegative integer (power) p   (p can be 0)\n",
    "* Return the value of b\\**p.\n",
    "* The function must use a for loop! (writing return b**p is not in the spirit of this practice...)\n",
    "* For this problem, power(0, 0) should return 1.0   (we realize this might push some mathematicians' tolerance past its limit)"
   ]
  },
  {
   "cell_type": "code",
   "execution_count": 42,
   "metadata": {},
   "outputs": [],
   "source": [
    "def power(b,p):\n",
    "    result = 1                 # starting value - like a base case\n",
    "    for x in range(1,p+1):     # loop from 1 to p, inclusive\n",
    "        result = result * b    # update the result by mult. by b\n",
    "    return result              # notice this is AFTER the loop!\n",
    "\n",
    "#\n",
    "# Tests for looping factorial\n",
    "#\n",
    "assert fac(0) == 1\n",
    "assert fac(5) == 120"
   ]
  },
  {
   "cell_type": "code",
   "execution_count": 43,
   "metadata": {},
   "outputs": [
    {
     "data": {
      "text/plain": [
       "32"
      ]
     },
     "execution_count": 43,
     "metadata": {},
     "output_type": "execute_result"
    }
   ],
   "source": [
    "power(2,5)"
   ]
  },
  {
   "cell_type": "code",
   "execution_count": 49,
   "metadata": {},
   "outputs": [],
   "source": [
    "from lib import hw6pr5_power"
   ]
  },
  {
   "cell_type": "code",
   "execution_count": 50,
   "metadata": {},
   "outputs": [
    {
     "data": {
      "text/plain": [
       "32"
      ]
     },
     "execution_count": 50,
     "metadata": {},
     "output_type": "execute_result"
    }
   ],
   "source": [
    "power(2,5)"
   ]
  },
  {
   "cell_type": "code",
   "execution_count": 51,
   "metadata": {},
   "outputs": [
    {
     "data": {
      "text/plain": [
       "25"
      ]
     },
     "execution_count": 51,
     "metadata": {},
     "output_type": "execute_result"
    }
   ],
   "source": [
    "power(5,2)"
   ]
  },
  {
   "cell_type": "code",
   "execution_count": 52,
   "metadata": {},
   "outputs": [
    {
     "data": {
      "text/plain": [
       "1"
      ]
     },
     "execution_count": 52,
     "metadata": {},
     "output_type": "execute_result"
    }
   ],
   "source": [
    "power(42,0)"
   ]
  },
  {
   "cell_type": "code",
   "execution_count": 53,
   "metadata": {},
   "outputs": [
    {
     "data": {
      "text/plain": [
       "0"
      ]
     },
     "execution_count": 53,
     "metadata": {},
     "output_type": "execute_result"
    }
   ],
   "source": [
    "power(0,42)"
   ]
  },
  {
   "cell_type": "code",
   "execution_count": 54,
   "metadata": {},
   "outputs": [
    {
     "data": {
      "text/plain": [
       "1"
      ]
     },
     "execution_count": 54,
     "metadata": {},
     "output_type": "execute_result"
    }
   ],
   "source": [
    "power(0,0)"
   ]
  },
  {
   "cell_type": "markdown",
   "metadata": {},
   "source": [
    "## Looping function to write #2: `summedOdds(L)`\n",
    "\n",
    "Here is a loop-based `summed` function you can use as a template to create a loop-based function named `summedOdds(L)` which should:\n",
    "* Accept any list of integers L.\n",
    "* You may assume it includes only integers.\n",
    "* It should return the sum of all of the odd elements in L <br>\n",
    "...using a loop!\n",
    "\n",
    "**Hint:** use an if statement inside the loop and only add to result under the correct conditions\n",
    "\n",
    "```\n",
    "def summed(L):\n",
    "    \"\"\"Loop-based function to return a numeric list.\n",
    "       (\"sum\" is built-in, so we're using a different name.)\n",
    "       Argument: L, a list of integers.\n",
    "       Result: the sum of the list L.\n",
    "    \"\"\"\n",
    "    result = 0\n",
    "    for e in L:\n",
    "        result = result + e    # or result += e\n",
    "    return result\n",
    "\n",
    "# tests!\n",
    "assert summed([4, 5, 6]) == 15\n",
    "assert summed(range(3, 10)] == 42\n",
    "```"
   ]
  },
  {
   "cell_type": "code",
   "execution_count": 56,
   "metadata": {},
   "outputs": [
    {
     "data": {
      "text/plain": [
       "1"
      ]
     },
     "execution_count": 56,
     "metadata": {},
     "output_type": "execute_result"
    }
   ],
   "source": [
    "9%2"
   ]
  },
  {
   "cell_type": "code",
   "execution_count": 66,
   "metadata": {},
   "outputs": [],
   "source": [
    "def summedOdds(L):\n",
    "    \"\"\"Loop-based function to return a numeric list.\n",
    "       (\"sum\" is built-in, so we're using a different name.)\n",
    "       Argument: L, a list of integers.\n",
    "       Result: the sum of the list L.\n",
    "    \"\"\"\n",
    "    result = 0\n",
    "    for item in L:\n",
    "        if item%2 == 1:\n",
    "            result = result + item    # or result += e\n",
    "    return result"
   ]
  },
  {
   "cell_type": "code",
   "execution_count": 70,
   "metadata": {},
   "outputs": [],
   "source": [
    "mylist = [1,2,3,4,5,7,9]"
   ]
  },
  {
   "cell_type": "code",
   "execution_count": 73,
   "metadata": {},
   "outputs": [
    {
     "data": {
      "text/plain": [
       "25"
      ]
     },
     "execution_count": 73,
     "metadata": {},
     "output_type": "execute_result"
    }
   ],
   "source": [
    "1+3+5+7+9"
   ]
  },
  {
   "cell_type": "code",
   "execution_count": 74,
   "metadata": {},
   "outputs": [
    {
     "data": {
      "text/plain": [
       "25"
      ]
     },
     "execution_count": 74,
     "metadata": {},
     "output_type": "execute_result"
    }
   ],
   "source": [
    "summedOdds(mylist)"
   ]
  },
  {
   "cell_type": "markdown",
   "metadata": {},
   "source": [
    "## Looping function to write #3: `untilARepeat( high )`\n",
    "\n",
    "This function will let you explore what is sometimes called the *birthday paradox*: Even in a very small group of people (23 or more), there is greater than a 50-50 chance that a pair of those people share a birthday.\n",
    "\n",
    "First, paste and try out the number-guessing while-loop example from class:\n",
    "```\n",
    "import random\n",
    "\n",
    "def countGuesses(hidden):\n",
    "    \"\"\"Uses a while loop to guess \"hidden\", from 0 to 99.\n",
    "       Argument: hidden, a \"hidden\" integer from 0 to 99.\n",
    "       Result: the number of guesses needed to guess hidden.\n",
    "    \"\"\"\n",
    "    guess = random.choice(range(0, 100))     # 0 to 99, inclusive\n",
    "    numguesses = 1                           # we just made one guess, above\n",
    "    while guess != hidden:\n",
    "        guess = random.choice(range(0, 100)) # guess again!\n",
    "        numguesses += 1                      # add one to our number of guesses\n",
    "    return numguesses\n",
    "```\n",
    "\n",
    "Then, using `countGuesses` as a starting point (feel free to copy and alter it), write a variant of this function named untilARepeat(high), which\n",
    "\n",
    "* Keeps a list L of all of the integers guessed. Start with L = []!\n",
    "* Keeps looping as long as all of the elements in L are unique (no repeats).\n",
    " * Use a while loop!\n",
    " * Use the uniq(L) function that's provided below—it returns a Boolean.\n",
    "* Within the while loop:\n",
    " * Make a guess in the range(0, high).\n",
    " * Count the number of guesses (add one each time to some kind of counting variable).\n",
    " * Add the guess on to the end of the list L (see below for a hint on this...).\n",
    "* When the while loop finishes, the function should return the number of guesses needed until it gets a repeat.\n",
    "\n",
    "**Hints:**\n",
    "* Remember that you can add 1 to a variable with count += 1\n",
    "* Similarly, you can add a new element 42 to the end of a list L with the line \n",
    " * L = L + [42] \n",
    " * The element needs to be in brackets, because only lists can be added to lists.\n",
    "* Feel free to use this uniq(L) function provided here. You may have written this in the previous lab!\n"
   ]
  },
  {
   "cell_type": "code",
   "execution_count": 83,
   "metadata": {},
   "outputs": [],
   "source": [
    "# First, let's check out the function we're going to use as a template\n",
    "\n",
    "import random\n",
    "\n",
    "def countGuesses(hidden):\n",
    "    \"\"\"Uses a while loop to guess \"hidden\", from 0 to 99.\n",
    "       Argument: hidden, a \"hidden\" integer from 0 to 99.\n",
    "       Result: the number of guesses needed to guess hidden.\n",
    "    \"\"\"\n",
    "    guess = random.choice(range(0, 100))     # 0 to 99, inclusive\n",
    "    numguesses = 1                           # we just made one guess, above\n",
    "    while guess != hidden:\n",
    "        guess = random.choice(range(0, 100)) # guess again!\n",
    "        numguesses += 1                      # add one to our number of guesses\n",
    "    return numguesses"
   ]
  },
  {
   "cell_type": "code",
   "execution_count": 84,
   "metadata": {},
   "outputs": [
    {
     "data": {
      "text/plain": [
       "58"
      ]
     },
     "execution_count": 84,
     "metadata": {},
     "output_type": "execute_result"
    }
   ],
   "source": [
    "countGuesses(10)"
   ]
  },
  {
   "cell_type": "code",
   "execution_count": 85,
   "metadata": {},
   "outputs": [
    {
     "data": {
      "text/plain": [
       "35"
      ]
     },
     "execution_count": 85,
     "metadata": {},
     "output_type": "execute_result"
    }
   ],
   "source": [
    "countGuesses(10)"
   ]
  },
  {
   "cell_type": "code",
   "execution_count": 86,
   "metadata": {},
   "outputs": [
    {
     "data": {
      "text/plain": [
       "318"
      ]
     },
     "execution_count": 86,
     "metadata": {},
     "output_type": "execute_result"
    }
   ],
   "source": [
    "countGuesses(10)"
   ]
  },
  {
   "cell_type": "code",
   "execution_count": 104,
   "metadata": {},
   "outputs": [],
   "source": [
    "# Use the uniq(L) function that's provided — it returns a Boolean:\n",
    "\n",
    "def uniq(L):\n",
    "  \"\"\"\n",
    "     Returns whether all elements in L are unique.\n",
    "     Argument: L, a list of any elements.\n",
    "     Return value: True, if all elements in L are unique,\n",
    "                or False, if there is any repeated element\n",
    "  \"\"\"\n",
    "  if len(L) == 0:\n",
    "    return True\n",
    "  elif L[0] in L[1:]:\n",
    "    return False\n",
    "  else:\n",
    "    return uniq(L[1:])  # recursion is OK in this function!"
   ]
  },
  {
   "cell_type": "code",
   "execution_count": 105,
   "metadata": {},
   "outputs": [
    {
     "data": {
      "text/plain": [
       "True"
      ]
     },
     "execution_count": 105,
     "metadata": {},
     "output_type": "execute_result"
    }
   ],
   "source": [
    "uniq(mylist)"
   ]
  },
  {
   "cell_type": "code",
   "execution_count": 106,
   "metadata": {},
   "outputs": [],
   "source": [
    "yourlist = [1,1,2,3,4,5,6]"
   ]
  },
  {
   "cell_type": "code",
   "execution_count": 107,
   "metadata": {},
   "outputs": [
    {
     "data": {
      "text/plain": [
       "False"
      ]
     },
     "execution_count": 107,
     "metadata": {},
     "output_type": "execute_result"
    }
   ],
   "source": [
    "uniq(yourlist)"
   ]
  },
  {
   "cell_type": "code",
   "execution_count": 112,
   "metadata": {},
   "outputs": [],
   "source": [
    "import random\n",
    "\n",
    "def untilARepeat(high):\n",
    "    \"\"\"Uses a while loop to guess \"hidden\", from 0 to 99.\n",
    "       Argument: hidden, a \"hidden\" integer from 0 to 99.\n",
    "       Result: the number of guesses needed to guess hidden.\n",
    "    \"\"\"\n",
    "    L = []\n",
    "    guess = random.choice(range(0, high))     # 0 to high, inclusive\n",
    "    numguesses = 1                           # we just made one guess, above\n",
    "    while guess != high and uniq(L)==True:\n",
    "        L.append(guess)\n",
    "        guess = random.choice(range(0, 100)) # guess again!\n",
    "        numguesses += 1                      # add one to our number of guesses\n",
    "    return numguesses, L"
   ]
  },
  {
   "cell_type": "code",
   "execution_count": 113,
   "metadata": {},
   "outputs": [
    {
     "data": {
      "text/plain": [
       "(3, [2, 2])"
      ]
     },
     "execution_count": 113,
     "metadata": {},
     "output_type": "execute_result"
    }
   ],
   "source": [
    "untilARepeat(19)"
   ]
  },
  {
   "cell_type": "code",
   "execution_count": 102,
   "metadata": {},
   "outputs": [],
   "source": [
    "import random\n",
    "\n",
    "def untilARepeat(high):\n",
    "    \"\"\"Uses a while loop to guess \"hidden\", from 0 to 99.\n",
    "       Argument: hidden, a \"hidden\" integer from 0 to 99.\n",
    "       Result: the number of guesses needed to guess hidden.\n",
    "    \"\"\"\n",
    "    L = []\n",
    "    guess = random.choice(range(0, high))     # 0 to high, inclusive\n",
    "    numguesses = 1                           # we just made one guess, above\n",
    "    while guess != high and guess not in L:\n",
    "        L.append(guess)\n",
    "        guess = random.choice(range(0, 100)) # guess again!\n",
    "        numguesses += 1                      # add one to our number of guesses\n",
    "    return \"Number of guesses: \" + repr(numguesses)+ \" \" + repr(L)"
   ]
  },
  {
   "cell_type": "code",
   "execution_count": 103,
   "metadata": {},
   "outputs": [
    {
     "data": {
      "text/plain": [
       "'Number of guesses: 19 [90, 4, 29, 18, 87, 97, 31, 91, 21, 55, 78, 5, 82, 16, 28, 93, 80, 92]'"
      ]
     },
     "execution_count": 103,
     "metadata": {},
     "output_type": "execute_result"
    }
   ],
   "source": [
    "untilARepeat(19)"
   ]
  }
 ],
 "metadata": {
  "kernelspec": {
   "display_name": "Python 3",
   "language": "python",
   "name": "python3"
  },
  "language_info": {
   "codemirror_mode": {
    "name": "ipython",
    "version": 3
   },
   "file_extension": ".py",
   "mimetype": "text/x-python",
   "name": "python",
   "nbconvert_exporter": "python",
   "pygments_lexer": "ipython3",
   "version": "3.6.3"
  }
 },
 "nbformat": 4,
 "nbformat_minor": 2
}
