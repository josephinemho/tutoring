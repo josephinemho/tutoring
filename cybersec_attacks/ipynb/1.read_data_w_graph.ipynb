{
 "cells": [
  {
   "cell_type": "markdown",
   "metadata": {
    "slideshow": {
     "slide_type": "slide"
    }
   },
   "source": [
    "## Task: Read a txt file in Python"
   ]
  },
  {
   "cell_type": "markdown",
   "metadata": {
    "slideshow": {
     "slide_type": "slide"
    }
   },
   "source": [
    "There are many ways to read and write files. Instead of importing a library (e.g. Pandas), we will use Python's built-in ***open*** function to get a file object.\n",
    "\n",
    "The syntax to open a file object in Python is: <br>\n",
    "`file_object  = open(“filename”, “mode”)` <br>\n",
    "***File_object*** is the variable you're assigning the file to and ***mode*** tells the interpreter how to use the file: \n",
    "\n",
    "- ‘r’ – Read mode\n",
    "- ‘w’ – Write mode (edit and write new information to the file)\n",
    "- ‘a’ – Append mode (add new data to the end of the file)\n",
    "- ‘r+’ – Special read and write mode (handle both actions when working with a file)"
   ]
  },
  {
   "cell_type": "code",
   "execution_count": 1,
   "metadata": {
    "slideshow": {
     "slide_type": "slide"
    }
   },
   "outputs": [],
   "source": [
    "external_sites = open('../data/external_sites.txt', 'r')"
   ]
  },
  {
   "cell_type": "code",
   "execution_count": 3,
   "metadata": {
    "slideshow": {
     "slide_type": "slide"
    }
   },
   "outputs": [],
   "source": [
    "external_sites_list = external_sites.read().splitlines()"
   ]
  },
  {
   "cell_type": "code",
   "execution_count": 8,
   "metadata": {
    "slideshow": {
     "slide_type": "slide"
    }
   },
   "outputs": [],
   "source": [
    "url_list = []\n",
    "for row in external_sites_list:\n",
    "    url_list.append(\"https://\" + row)"
   ]
  },
  {
   "cell_type": "code",
   "execution_count": 9,
   "metadata": {
    "scrolled": true,
    "slideshow": {
     "slide_type": "slide"
    }
   },
   "outputs": [
    {
     "data": {
      "text/plain": [
       "['https://abc.jpl.nasa.gov',\n",
       " 'https://abclab.jpl.nasa.gov',\n",
       " 'https://acce-ops.jpl.nasa.gov',\n",
       " 'https://acce.jpl.nasa.gov',\n",
       " 'https://accellion.jpl.nasa.gov',\n",
       " 'https://acquisition.jpl.nasa.gov',\n",
       " 'https://acquisitions.jpl.nasa.gov',\n",
       " 'https://aeolus.jpl.nasa.gov',\n",
       " 'https://aggregate.jpl.nasa.gov',\n",
       " 'https://ai.jpl.nasa.gov',\n",
       " 'https://airbornescience.jpl.nasa.gov',\n",
       " 'https://airflip.jpl.nasa.gov',\n",
       " 'https://airsar-t.jpl.nasa.gov',\n",
       " 'https://airsar.jpl.nasa.gov',\n",
       " 'https://airsnrt.jpl.nasa.gov',\n",
       " 'https://airsteam.jpl.nasa.gov',\n",
       " 'https://airswot.jpl.nasa.gov',\n",
       " 'https://aitest.jpl.nasa.gov',\n",
       " 'https://aiweb.jpl.nasa.gov',\n",
       " 'https://akana-ext.jpl.nasa.gov',\n",
       " 'https://akana-intext.jpl.nasa.gov',\n",
       " 'https://alhat.jpl.nasa.gov',\n",
       " 'https://amfs1-webdav.jpl.nasa.gov',\n",
       " 'https://amfs1.jpl.nasa.gov',\n",
       " 'https://ammos.jpl.nasa.gov',\n",
       " 'https://analogs.jpl.nasa.gov',\n",
       " 'https://ao.jpl.nasa.gov',\n",
       " 'https://appell.jpl.nasa.gov',\n",
       " 'https://apps-ldt.jpl.nasa.gov',\n",
       " 'https://apps-sishub.jpl.nasa.gov',\n",
       " 'https://arcadia.jpl.nasa.gov',\n",
       " 'https://argo.jpl.nasa.gov',\n",
       " 'https://aria-csk-dav.jpl.nasa.gov',\n",
       " 'https://aria-dap.jpl.nasa.gov',\n",
       " 'https://aria-dav-pub.jpl.nasa.gov',\n",
       " 'https://aria-dav.jpl.nasa.gov',\n",
       " 'https://aria-puccini.jpl.nasa.gov',\n",
       " 'https://aria-qa.jpl.nasa.gov',\n",
       " 'https://aria-search-gamma.jpl.nasa.gov',\n",
       " 'https://aria-search.jpl.nasa.gov',\n",
       " 'https://aria-share.jpl.nasa.gov',\n",
       " 'https://aria-timeseries.jpl.nasa.gov',\n",
       " 'https://aria-wiki.jpl.nasa.gov',\n",
       " 'https://aria.jpl.nasa.gov',\n",
       " 'https://aria1-dav.jpl.nasa.gov',\n",
       " 'https://aria1.jpl.nasa.gov',\n",
       " 'https://aria2-dav.jpl.nasa.gov',\n",
       " 'https://asc.jpl.nasa.gov',\n",
       " 'https://ase.jpl.nasa.gov',\n",
       " 'https://aso-log.jpl.nasa.gov']"
      ]
     },
     "execution_count": 9,
     "metadata": {},
     "output_type": "execute_result"
    }
   ],
   "source": [
    "url_list"
   ]
  },
  {
   "cell_type": "markdown",
   "metadata": {
    "slideshow": {
     "slide_type": "slide"
    }
   },
   "source": [
    "## Task: Use `requests.get()` to call on all URLs to get the response code"
   ]
  },
  {
   "cell_type": "markdown",
   "metadata": {
    "slideshow": {
     "slide_type": "slide"
    }
   },
   "source": [
    "First, let's build out our script for `requests.get()`"
   ]
  },
  {
   "cell_type": "code",
   "execution_count": 6,
   "metadata": {
    "slideshow": {
     "slide_type": "slide"
    }
   },
   "outputs": [],
   "source": [
    "import requests"
   ]
  },
  {
   "cell_type": "code",
   "execution_count": 10,
   "metadata": {
    "slideshow": {
     "slide_type": "slide"
    }
   },
   "outputs": [],
   "source": [
    "r = requests.get('https://abclab.jpl.nasa.gov')"
   ]
  },
  {
   "cell_type": "code",
   "execution_count": 11,
   "metadata": {
    "slideshow": {
     "slide_type": "slide"
    }
   },
   "outputs": [
    {
     "data": {
      "text/plain": [
       "200"
      ]
     },
     "execution_count": 11,
     "metadata": {},
     "output_type": "execute_result"
    }
   ],
   "source": [
    "r.status_code"
   ]
  },
  {
   "cell_type": "markdown",
   "metadata": {
    "slideshow": {
     "slide_type": "slide"
    }
   },
   "source": [
    "Awesome! Now let's put it all together using a for-loop. We want to have ***one*** chunk of code that does all the work for us."
   ]
  },
  {
   "cell_type": "code",
   "execution_count": 26,
   "metadata": {
    "scrolled": true,
    "slideshow": {
     "slide_type": "slide"
    }
   },
   "outputs": [
    {
     "name": "stdout",
     "output_type": "stream",
     "text": [
      "Success for https://abc.jpl.nasa.gov\n",
      "Success for https://abclab.jpl.nasa.gov\n",
      "Success for https://acce-ops.jpl.nasa.gov\n",
      "Success for https://acce.jpl.nasa.gov\n",
      "Success for https://accellion.jpl.nasa.gov\n",
      "Success for https://acquisition.jpl.nasa.gov\n",
      "Success for https://acquisitions.jpl.nasa.gov\n",
      "Success for https://aeolus.jpl.nasa.gov\n",
      "Success for https://aggregate.jpl.nasa.gov\n",
      "Error for https://ai.jpl.nasa.gov\n",
      "Success for https://airbornescience.jpl.nasa.gov\n",
      "Success for https://airflip.jpl.nasa.gov\n",
      "Success for https://airsar-t.jpl.nasa.gov\n",
      "Success for https://airsar.jpl.nasa.gov\n",
      "Success for https://airsnrt.jpl.nasa.gov\n",
      "Success for https://airsteam.jpl.nasa.gov\n",
      "Success for https://airswot.jpl.nasa.gov\n",
      "Error for https://aitest.jpl.nasa.gov\n",
      "Error for https://aiweb.jpl.nasa.gov\n",
      "Success for https://akana-ext.jpl.nasa.gov\n",
      "Success for https://akana-intext.jpl.nasa.gov\n",
      "Success for https://alhat.jpl.nasa.gov\n",
      "Success for https://amfs1-webdav.jpl.nasa.gov\n",
      "Success for https://amfs1.jpl.nasa.gov\n",
      "Success for https://ammos.jpl.nasa.gov\n",
      "Success for https://analogs.jpl.nasa.gov\n",
      "Success for https://ao.jpl.nasa.gov\n",
      "Success for https://appell.jpl.nasa.gov\n",
      "Success for https://apps-ldt.jpl.nasa.gov\n",
      "Success for https://apps-sishub.jpl.nasa.gov\n",
      "Error for https://arcadia.jpl.nasa.gov\n",
      "Success for https://argo.jpl.nasa.gov\n",
      "Success for https://aria-csk-dav.jpl.nasa.gov\n",
      "Success for https://aria-dap.jpl.nasa.gov\n",
      "Success for https://aria-dav-pub.jpl.nasa.gov\n",
      "Success for https://aria-dav.jpl.nasa.gov\n",
      "Success for https://aria-puccini.jpl.nasa.gov\n",
      "Success for https://aria-qa.jpl.nasa.gov\n",
      "Success for https://aria-search-gamma.jpl.nasa.gov\n",
      "Success for https://aria-search.jpl.nasa.gov\n",
      "Success for https://aria-share.jpl.nasa.gov\n",
      "Success for https://aria-timeseries.jpl.nasa.gov\n",
      "Success for https://aria-wiki.jpl.nasa.gov\n",
      "Success for https://aria.jpl.nasa.gov\n",
      "Success for https://aria1-dav.jpl.nasa.gov\n",
      "Success for https://aria1.jpl.nasa.gov\n",
      "Success for https://aria2-dav.jpl.nasa.gov\n",
      "Error for https://asc.jpl.nasa.gov\n",
      "Error for https://ase.jpl.nasa.gov\n",
      "Success for https://aso-log.jpl.nasa.gov\n"
     ]
    }
   ],
   "source": [
    "status_code_list = []\n",
    "for row in url_list:\n",
    "    try:\n",
    "        r = requests.get(row)\n",
    "        status_code_list.append(r.status_code)\n",
    "        print(\"Success for \" + row)\n",
    "    except:\n",
    "        status_code_list.append(\"ERROR\")\n",
    "        print(\"Error for \" + row)"
   ]
  },
  {
   "cell_type": "code",
   "execution_count": 108,
   "metadata": {
    "slideshow": {
     "slide_type": "slide"
    }
   },
   "outputs": [
    {
     "data": {
      "text/plain": [
       "list"
      ]
     },
     "execution_count": 108,
     "metadata": {},
     "output_type": "execute_result"
    }
   ],
   "source": [
    "type(status_code_list)"
   ]
  },
  {
   "cell_type": "code",
   "execution_count": 109,
   "metadata": {
    "slideshow": {
     "slide_type": "slide"
    }
   },
   "outputs": [
    {
     "data": {
      "text/plain": [
       "list"
      ]
     },
     "execution_count": 109,
     "metadata": {},
     "output_type": "execute_result"
    }
   ],
   "source": [
    "type(url_list)"
   ]
  },
  {
   "cell_type": "code",
   "execution_count": 51,
   "metadata": {
    "slideshow": {
     "slide_type": "slide"
    }
   },
   "outputs": [],
   "source": [
    "for i in range(0,50):\n",
    "    url_response_dict = {\n",
    "        'website': url_list,\n",
    "        'status_code': status_code_list\n",
    "    }"
   ]
  },
  {
   "cell_type": "markdown",
   "metadata": {
    "slideshow": {
     "slide_type": "slide"
    }
   },
   "source": [
    "## Task: Export dictionary"
   ]
  },
  {
   "cell_type": "code",
   "execution_count": 54,
   "metadata": {
    "slideshow": {
     "slide_type": "slide"
    }
   },
   "outputs": [],
   "source": [
    "from sklearn.externals import joblib"
   ]
  },
  {
   "cell_type": "code",
   "execution_count": 55,
   "metadata": {
    "slideshow": {
     "slide_type": "slide"
    }
   },
   "outputs": [
    {
     "data": {
      "text/plain": [
       "['../data/url_response_dict']"
      ]
     },
     "execution_count": 55,
     "metadata": {},
     "output_type": "execute_result"
    }
   ],
   "source": [
    "joblib.dump(url_response_dict, '../data/url_response_dict')"
   ]
  },
  {
   "cell_type": "markdown",
   "metadata": {
    "slideshow": {
     "slide_type": "slide"
    }
   },
   "source": [
    "# Display the dictionary in a dataframe format\n",
    "Using Pandas."
   ]
  },
  {
   "cell_type": "code",
   "execution_count": 36,
   "metadata": {
    "slideshow": {
     "slide_type": "slide"
    }
   },
   "outputs": [],
   "source": [
    "import pandas as pd"
   ]
  },
  {
   "cell_type": "code",
   "execution_count": 52,
   "metadata": {
    "scrolled": true,
    "slideshow": {
     "slide_type": "slide"
    }
   },
   "outputs": [
    {
     "data": {
      "text/html": [
       "<div>\n",
       "<table border=\"1\" class=\"dataframe\">\n",
       "  <thead>\n",
       "    <tr style=\"text-align: right;\">\n",
       "      <th></th>\n",
       "      <th>status_code</th>\n",
       "      <th>website</th>\n",
       "    </tr>\n",
       "  </thead>\n",
       "  <tbody>\n",
       "    <tr>\n",
       "      <th>0</th>\n",
       "      <td>200</td>\n",
       "      <td>https://abc.jpl.nasa.gov</td>\n",
       "    </tr>\n",
       "    <tr>\n",
       "      <th>1</th>\n",
       "      <td>200</td>\n",
       "      <td>https://abclab.jpl.nasa.gov</td>\n",
       "    </tr>\n",
       "    <tr>\n",
       "      <th>2</th>\n",
       "      <td>200</td>\n",
       "      <td>https://acce-ops.jpl.nasa.gov</td>\n",
       "    </tr>\n",
       "    <tr>\n",
       "      <th>3</th>\n",
       "      <td>200</td>\n",
       "      <td>https://acce.jpl.nasa.gov</td>\n",
       "    </tr>\n",
       "    <tr>\n",
       "      <th>4</th>\n",
       "      <td>200</td>\n",
       "      <td>https://accellion.jpl.nasa.gov</td>\n",
       "    </tr>\n",
       "    <tr>\n",
       "      <th>5</th>\n",
       "      <td>200</td>\n",
       "      <td>https://acquisition.jpl.nasa.gov</td>\n",
       "    </tr>\n",
       "    <tr>\n",
       "      <th>6</th>\n",
       "      <td>200</td>\n",
       "      <td>https://acquisitions.jpl.nasa.gov</td>\n",
       "    </tr>\n",
       "    <tr>\n",
       "      <th>7</th>\n",
       "      <td>200</td>\n",
       "      <td>https://aeolus.jpl.nasa.gov</td>\n",
       "    </tr>\n",
       "    <tr>\n",
       "      <th>8</th>\n",
       "      <td>200</td>\n",
       "      <td>https://aggregate.jpl.nasa.gov</td>\n",
       "    </tr>\n",
       "    <tr>\n",
       "      <th>9</th>\n",
       "      <td>ERROR</td>\n",
       "      <td>https://ai.jpl.nasa.gov</td>\n",
       "    </tr>\n",
       "    <tr>\n",
       "      <th>10</th>\n",
       "      <td>200</td>\n",
       "      <td>https://airbornescience.jpl.nasa.gov</td>\n",
       "    </tr>\n",
       "    <tr>\n",
       "      <th>11</th>\n",
       "      <td>200</td>\n",
       "      <td>https://airflip.jpl.nasa.gov</td>\n",
       "    </tr>\n",
       "    <tr>\n",
       "      <th>12</th>\n",
       "      <td>500</td>\n",
       "      <td>https://airsar-t.jpl.nasa.gov</td>\n",
       "    </tr>\n",
       "    <tr>\n",
       "      <th>13</th>\n",
       "      <td>200</td>\n",
       "      <td>https://airsar.jpl.nasa.gov</td>\n",
       "    </tr>\n",
       "    <tr>\n",
       "      <th>14</th>\n",
       "      <td>200</td>\n",
       "      <td>https://airsnrt.jpl.nasa.gov</td>\n",
       "    </tr>\n",
       "    <tr>\n",
       "      <th>15</th>\n",
       "      <td>200</td>\n",
       "      <td>https://airsteam.jpl.nasa.gov</td>\n",
       "    </tr>\n",
       "    <tr>\n",
       "      <th>16</th>\n",
       "      <td>403</td>\n",
       "      <td>https://airswot.jpl.nasa.gov</td>\n",
       "    </tr>\n",
       "    <tr>\n",
       "      <th>17</th>\n",
       "      <td>ERROR</td>\n",
       "      <td>https://aitest.jpl.nasa.gov</td>\n",
       "    </tr>\n",
       "    <tr>\n",
       "      <th>18</th>\n",
       "      <td>ERROR</td>\n",
       "      <td>https://aiweb.jpl.nasa.gov</td>\n",
       "    </tr>\n",
       "    <tr>\n",
       "      <th>19</th>\n",
       "      <td>403</td>\n",
       "      <td>https://akana-ext.jpl.nasa.gov</td>\n",
       "    </tr>\n",
       "    <tr>\n",
       "      <th>20</th>\n",
       "      <td>403</td>\n",
       "      <td>https://akana-intext.jpl.nasa.gov</td>\n",
       "    </tr>\n",
       "    <tr>\n",
       "      <th>21</th>\n",
       "      <td>200</td>\n",
       "      <td>https://alhat.jpl.nasa.gov</td>\n",
       "    </tr>\n",
       "    <tr>\n",
       "      <th>22</th>\n",
       "      <td>401</td>\n",
       "      <td>https://amfs1-webdav.jpl.nasa.gov</td>\n",
       "    </tr>\n",
       "    <tr>\n",
       "      <th>23</th>\n",
       "      <td>401</td>\n",
       "      <td>https://amfs1.jpl.nasa.gov</td>\n",
       "    </tr>\n",
       "    <tr>\n",
       "      <th>24</th>\n",
       "      <td>200</td>\n",
       "      <td>https://ammos.jpl.nasa.gov</td>\n",
       "    </tr>\n",
       "    <tr>\n",
       "      <th>25</th>\n",
       "      <td>200</td>\n",
       "      <td>https://analogs.jpl.nasa.gov</td>\n",
       "    </tr>\n",
       "    <tr>\n",
       "      <th>26</th>\n",
       "      <td>200</td>\n",
       "      <td>https://ao.jpl.nasa.gov</td>\n",
       "    </tr>\n",
       "    <tr>\n",
       "      <th>27</th>\n",
       "      <td>200</td>\n",
       "      <td>https://appell.jpl.nasa.gov</td>\n",
       "    </tr>\n",
       "    <tr>\n",
       "      <th>28</th>\n",
       "      <td>200</td>\n",
       "      <td>https://apps-ldt.jpl.nasa.gov</td>\n",
       "    </tr>\n",
       "    <tr>\n",
       "      <th>29</th>\n",
       "      <td>200</td>\n",
       "      <td>https://apps-sishub.jpl.nasa.gov</td>\n",
       "    </tr>\n",
       "    <tr>\n",
       "      <th>30</th>\n",
       "      <td>ERROR</td>\n",
       "      <td>https://arcadia.jpl.nasa.gov</td>\n",
       "    </tr>\n",
       "    <tr>\n",
       "      <th>31</th>\n",
       "      <td>200</td>\n",
       "      <td>https://argo.jpl.nasa.gov</td>\n",
       "    </tr>\n",
       "    <tr>\n",
       "      <th>32</th>\n",
       "      <td>200</td>\n",
       "      <td>https://aria-csk-dav.jpl.nasa.gov</td>\n",
       "    </tr>\n",
       "    <tr>\n",
       "      <th>33</th>\n",
       "      <td>200</td>\n",
       "      <td>https://aria-dap.jpl.nasa.gov</td>\n",
       "    </tr>\n",
       "    <tr>\n",
       "      <th>34</th>\n",
       "      <td>200</td>\n",
       "      <td>https://aria-dav-pub.jpl.nasa.gov</td>\n",
       "    </tr>\n",
       "    <tr>\n",
       "      <th>35</th>\n",
       "      <td>200</td>\n",
       "      <td>https://aria-dav.jpl.nasa.gov</td>\n",
       "    </tr>\n",
       "    <tr>\n",
       "      <th>36</th>\n",
       "      <td>200</td>\n",
       "      <td>https://aria-puccini.jpl.nasa.gov</td>\n",
       "    </tr>\n",
       "    <tr>\n",
       "      <th>37</th>\n",
       "      <td>200</td>\n",
       "      <td>https://aria-qa.jpl.nasa.gov</td>\n",
       "    </tr>\n",
       "    <tr>\n",
       "      <th>38</th>\n",
       "      <td>200</td>\n",
       "      <td>https://aria-search-gamma.jpl.nasa.gov</td>\n",
       "    </tr>\n",
       "    <tr>\n",
       "      <th>39</th>\n",
       "      <td>200</td>\n",
       "      <td>https://aria-search.jpl.nasa.gov</td>\n",
       "    </tr>\n",
       "    <tr>\n",
       "      <th>40</th>\n",
       "      <td>200</td>\n",
       "      <td>https://aria-share.jpl.nasa.gov</td>\n",
       "    </tr>\n",
       "    <tr>\n",
       "      <th>41</th>\n",
       "      <td>200</td>\n",
       "      <td>https://aria-timeseries.jpl.nasa.gov</td>\n",
       "    </tr>\n",
       "    <tr>\n",
       "      <th>42</th>\n",
       "      <td>503</td>\n",
       "      <td>https://aria-wiki.jpl.nasa.gov</td>\n",
       "    </tr>\n",
       "    <tr>\n",
       "      <th>43</th>\n",
       "      <td>200</td>\n",
       "      <td>https://aria.jpl.nasa.gov</td>\n",
       "    </tr>\n",
       "    <tr>\n",
       "      <th>44</th>\n",
       "      <td>401</td>\n",
       "      <td>https://aria1-dav.jpl.nasa.gov</td>\n",
       "    </tr>\n",
       "    <tr>\n",
       "      <th>45</th>\n",
       "      <td>200</td>\n",
       "      <td>https://aria1.jpl.nasa.gov</td>\n",
       "    </tr>\n",
       "    <tr>\n",
       "      <th>46</th>\n",
       "      <td>401</td>\n",
       "      <td>https://aria2-dav.jpl.nasa.gov</td>\n",
       "    </tr>\n",
       "    <tr>\n",
       "      <th>47</th>\n",
       "      <td>ERROR</td>\n",
       "      <td>https://asc.jpl.nasa.gov</td>\n",
       "    </tr>\n",
       "    <tr>\n",
       "      <th>48</th>\n",
       "      <td>ERROR</td>\n",
       "      <td>https://ase.jpl.nasa.gov</td>\n",
       "    </tr>\n",
       "    <tr>\n",
       "      <th>49</th>\n",
       "      <td>503</td>\n",
       "      <td>https://aso-log.jpl.nasa.gov</td>\n",
       "    </tr>\n",
       "  </tbody>\n",
       "</table>\n",
       "</div>"
      ],
      "text/plain": [
       "   status_code                                 website\n",
       "0          200                https://abc.jpl.nasa.gov\n",
       "1          200             https://abclab.jpl.nasa.gov\n",
       "2          200           https://acce-ops.jpl.nasa.gov\n",
       "3          200               https://acce.jpl.nasa.gov\n",
       "4          200          https://accellion.jpl.nasa.gov\n",
       "5          200        https://acquisition.jpl.nasa.gov\n",
       "6          200       https://acquisitions.jpl.nasa.gov\n",
       "7          200             https://aeolus.jpl.nasa.gov\n",
       "8          200          https://aggregate.jpl.nasa.gov\n",
       "9        ERROR                 https://ai.jpl.nasa.gov\n",
       "10         200    https://airbornescience.jpl.nasa.gov\n",
       "11         200            https://airflip.jpl.nasa.gov\n",
       "12         500           https://airsar-t.jpl.nasa.gov\n",
       "13         200             https://airsar.jpl.nasa.gov\n",
       "14         200            https://airsnrt.jpl.nasa.gov\n",
       "15         200           https://airsteam.jpl.nasa.gov\n",
       "16         403            https://airswot.jpl.nasa.gov\n",
       "17       ERROR             https://aitest.jpl.nasa.gov\n",
       "18       ERROR              https://aiweb.jpl.nasa.gov\n",
       "19         403          https://akana-ext.jpl.nasa.gov\n",
       "20         403       https://akana-intext.jpl.nasa.gov\n",
       "21         200              https://alhat.jpl.nasa.gov\n",
       "22         401       https://amfs1-webdav.jpl.nasa.gov\n",
       "23         401              https://amfs1.jpl.nasa.gov\n",
       "24         200              https://ammos.jpl.nasa.gov\n",
       "25         200            https://analogs.jpl.nasa.gov\n",
       "26         200                 https://ao.jpl.nasa.gov\n",
       "27         200             https://appell.jpl.nasa.gov\n",
       "28         200           https://apps-ldt.jpl.nasa.gov\n",
       "29         200        https://apps-sishub.jpl.nasa.gov\n",
       "30       ERROR            https://arcadia.jpl.nasa.gov\n",
       "31         200               https://argo.jpl.nasa.gov\n",
       "32         200       https://aria-csk-dav.jpl.nasa.gov\n",
       "33         200           https://aria-dap.jpl.nasa.gov\n",
       "34         200       https://aria-dav-pub.jpl.nasa.gov\n",
       "35         200           https://aria-dav.jpl.nasa.gov\n",
       "36         200       https://aria-puccini.jpl.nasa.gov\n",
       "37         200            https://aria-qa.jpl.nasa.gov\n",
       "38         200  https://aria-search-gamma.jpl.nasa.gov\n",
       "39         200        https://aria-search.jpl.nasa.gov\n",
       "40         200         https://aria-share.jpl.nasa.gov\n",
       "41         200    https://aria-timeseries.jpl.nasa.gov\n",
       "42         503          https://aria-wiki.jpl.nasa.gov\n",
       "43         200               https://aria.jpl.nasa.gov\n",
       "44         401          https://aria1-dav.jpl.nasa.gov\n",
       "45         200              https://aria1.jpl.nasa.gov\n",
       "46         401          https://aria2-dav.jpl.nasa.gov\n",
       "47       ERROR                https://asc.jpl.nasa.gov\n",
       "48       ERROR                https://ase.jpl.nasa.gov\n",
       "49         503            https://aso-log.jpl.nasa.gov"
      ]
     },
     "execution_count": 52,
     "metadata": {},
     "output_type": "execute_result"
    }
   ],
   "source": [
    "pd.DataFrame(url_response_dict)"
   ]
  },
  {
   "cell_type": "code",
   "execution_count": 57,
   "metadata": {
    "slideshow": {
     "slide_type": "slide"
    }
   },
   "outputs": [],
   "source": [
    "url_response_df = pd.DataFrame(url_response_dict)"
   ]
  },
  {
   "cell_type": "markdown",
   "metadata": {
    "slideshow": {
     "slide_type": "slide"
    }
   },
   "source": [
    "Now that you have your results in a dataframe, you can do analysis of your data (just like anything you would do in Excel)."
   ]
  },
  {
   "cell_type": "code",
   "execution_count": 67,
   "metadata": {
    "scrolled": false,
    "slideshow": {
     "slide_type": "slide"
    }
   },
   "outputs": [
    {
     "data": {
      "text/html": [
       "<div>\n",
       "<table border=\"1\" class=\"dataframe\">\n",
       "  <thead>\n",
       "    <tr style=\"text-align: right;\">\n",
       "      <th></th>\n",
       "      <th>website</th>\n",
       "    </tr>\n",
       "    <tr>\n",
       "      <th>status_code</th>\n",
       "      <th></th>\n",
       "    </tr>\n",
       "  </thead>\n",
       "  <tbody>\n",
       "    <tr>\n",
       "      <th>200</th>\n",
       "      <td>34</td>\n",
       "    </tr>\n",
       "    <tr>\n",
       "      <th>401</th>\n",
       "      <td>4</td>\n",
       "    </tr>\n",
       "    <tr>\n",
       "      <th>403</th>\n",
       "      <td>3</td>\n",
       "    </tr>\n",
       "    <tr>\n",
       "      <th>500</th>\n",
       "      <td>1</td>\n",
       "    </tr>\n",
       "    <tr>\n",
       "      <th>503</th>\n",
       "      <td>2</td>\n",
       "    </tr>\n",
       "    <tr>\n",
       "      <th>ERROR</th>\n",
       "      <td>6</td>\n",
       "    </tr>\n",
       "  </tbody>\n",
       "</table>\n",
       "</div>"
      ],
      "text/plain": [
       "             website\n",
       "status_code         \n",
       "200               34\n",
       "401                4\n",
       "403                3\n",
       "500                1\n",
       "503                2\n",
       "ERROR              6"
      ]
     },
     "execution_count": 67,
     "metadata": {},
     "output_type": "execute_result"
    }
   ],
   "source": [
    "url_response_df.groupby(['status_code']).count()"
   ]
  },
  {
   "cell_type": "code",
   "execution_count": 68,
   "metadata": {
    "slideshow": {
     "slide_type": "slide"
    }
   },
   "outputs": [],
   "source": [
    "url_response_df = url_response_df.groupby(['status_code']).count()"
   ]
  },
  {
   "cell_type": "code",
   "execution_count": 72,
   "metadata": {
    "slideshow": {
     "slide_type": "slide"
    }
   },
   "outputs": [
    {
     "data": {
      "text/html": [
       "<div>\n",
       "<table border=\"1\" class=\"dataframe\">\n",
       "  <thead>\n",
       "    <tr style=\"text-align: right;\">\n",
       "      <th></th>\n",
       "      <th>website</th>\n",
       "    </tr>\n",
       "    <tr>\n",
       "      <th>status_code</th>\n",
       "      <th></th>\n",
       "    </tr>\n",
       "  </thead>\n",
       "  <tbody>\n",
       "    <tr>\n",
       "      <th>200</th>\n",
       "      <td>34</td>\n",
       "    </tr>\n",
       "    <tr>\n",
       "      <th>ERROR</th>\n",
       "      <td>6</td>\n",
       "    </tr>\n",
       "    <tr>\n",
       "      <th>401</th>\n",
       "      <td>4</td>\n",
       "    </tr>\n",
       "    <tr>\n",
       "      <th>403</th>\n",
       "      <td>3</td>\n",
       "    </tr>\n",
       "    <tr>\n",
       "      <th>503</th>\n",
       "      <td>2</td>\n",
       "    </tr>\n",
       "    <tr>\n",
       "      <th>500</th>\n",
       "      <td>1</td>\n",
       "    </tr>\n",
       "  </tbody>\n",
       "</table>\n",
       "</div>"
      ],
      "text/plain": [
       "             website\n",
       "status_code         \n",
       "200               34\n",
       "ERROR              6\n",
       "401                4\n",
       "403                3\n",
       "503                2\n",
       "500                1"
      ]
     },
     "execution_count": 72,
     "metadata": {},
     "output_type": "execute_result"
    }
   ],
   "source": [
    "url_response_df.sort_values(['website'], ascending=False)"
   ]
  },
  {
   "cell_type": "markdown",
   "metadata": {
    "slideshow": {
     "slide_type": "slide"
    }
   },
   "source": [
    "# Graph using matplotlib"
   ]
  },
  {
   "cell_type": "code",
   "execution_count": 94,
   "metadata": {
    "slideshow": {
     "slide_type": "slide"
    }
   },
   "outputs": [],
   "source": [
    "url_response_graph = url_response_df.sort_values(['website'], ascending=False).reset_index()"
   ]
  },
  {
   "cell_type": "code",
   "execution_count": 95,
   "metadata": {
    "slideshow": {
     "slide_type": "slide"
    }
   },
   "outputs": [
    {
     "data": {
      "text/html": [
       "<div>\n",
       "<table border=\"1\" class=\"dataframe\">\n",
       "  <thead>\n",
       "    <tr style=\"text-align: right;\">\n",
       "      <th></th>\n",
       "      <th>status_code</th>\n",
       "      <th>website</th>\n",
       "    </tr>\n",
       "  </thead>\n",
       "  <tbody>\n",
       "    <tr>\n",
       "      <th>0</th>\n",
       "      <td>200</td>\n",
       "      <td>34</td>\n",
       "    </tr>\n",
       "    <tr>\n",
       "      <th>1</th>\n",
       "      <td>ERROR</td>\n",
       "      <td>6</td>\n",
       "    </tr>\n",
       "    <tr>\n",
       "      <th>2</th>\n",
       "      <td>401</td>\n",
       "      <td>4</td>\n",
       "    </tr>\n",
       "    <tr>\n",
       "      <th>3</th>\n",
       "      <td>403</td>\n",
       "      <td>3</td>\n",
       "    </tr>\n",
       "    <tr>\n",
       "      <th>4</th>\n",
       "      <td>503</td>\n",
       "      <td>2</td>\n",
       "    </tr>\n",
       "    <tr>\n",
       "      <th>5</th>\n",
       "      <td>500</td>\n",
       "      <td>1</td>\n",
       "    </tr>\n",
       "  </tbody>\n",
       "</table>\n",
       "</div>"
      ],
      "text/plain": [
       "  status_code  website\n",
       "0         200       34\n",
       "1       ERROR        6\n",
       "2         401        4\n",
       "3         403        3\n",
       "4         503        2\n",
       "5         500        1"
      ]
     },
     "execution_count": 95,
     "metadata": {},
     "output_type": "execute_result"
    }
   ],
   "source": [
    "url_response_graph"
   ]
  },
  {
   "cell_type": "code",
   "execution_count": 96,
   "metadata": {
    "slideshow": {
     "slide_type": "slide"
    }
   },
   "outputs": [],
   "source": [
    "import matplotlib.pyplot as plt\n",
    "import numpy as np"
   ]
  },
  {
   "cell_type": "code",
   "execution_count": 97,
   "metadata": {
    "slideshow": {
     "slide_type": "slide"
    }
   },
   "outputs": [],
   "source": [
    "y_pos = np.arange(len(url_response_graph))"
   ]
  },
  {
   "cell_type": "code",
   "execution_count": 98,
   "metadata": {
    "slideshow": {
     "slide_type": "slide"
    }
   },
   "outputs": [
    {
     "data": {
      "text/plain": [
       "array([0, 1, 2, 3, 4, 5])"
      ]
     },
     "execution_count": 98,
     "metadata": {},
     "output_type": "execute_result"
    }
   ],
   "source": [
    "y_pos"
   ]
  },
  {
   "cell_type": "code",
   "execution_count": 106,
   "metadata": {
    "slideshow": {
     "slide_type": "slide"
    }
   },
   "outputs": [
    {
     "data": {
      "image/png": "[encoded data removed]",
      "text/plain": [
       "<matplotlib.figure.Figure at 0x7f9112893e10>"
      ]
     },
     "metadata": {},
     "output_type": "display_data"
    }
   ],
   "source": [
    "plt.bar(y_pos, url_response_graph['website'])\n",
    "plt.xticks(y_pos, url_response_graph['status_code'])\n",
    "plt.ylabel('# of sites')\n",
    "plt.xlabel('status code')\n",
    "plt.title('Distribution of websites and their HTTPS status codes')\n",
    "plt.show()"
   ]
  },
  {
   "cell_type": "code",
   "execution_count": 107,
   "metadata": {
    "slideshow": {
     "slide_type": "slide"
    }
   },
   "outputs": [
    {
     "data": {
      "text/html": [
       "<div>\n",
       "<table border=\"1\" class=\"dataframe\">\n",
       "  <thead>\n",
       "    <tr style=\"text-align: right;\">\n",
       "      <th></th>\n",
       "      <th>Code</th>\n",
       "      <th>Description</th>\n",
       "    </tr>\n",
       "  </thead>\n",
       "  <tbody>\n",
       "    <tr>\n",
       "      <th>0</th>\n",
       "      <td>100</td>\n",
       "      <td>Continue</td>\n",
       "    </tr>\n",
       "    <tr>\n",
       "      <th>1</th>\n",
       "      <td>101</td>\n",
       "      <td>Switching Protocols</td>\n",
       "    </tr>\n",
       "    <tr>\n",
       "      <th>2</th>\n",
       "      <td>102</td>\n",
       "      <td>Processing</td>\n",
       "    </tr>\n",
       "    <tr>\n",
       "      <th>3</th>\n",
       "      <td>200</td>\n",
       "      <td>OK</td>\n",
       "    </tr>\n",
       "    <tr>\n",
       "      <th>4</th>\n",
       "      <td>201</td>\n",
       "      <td>Created</td>\n",
       "    </tr>\n",
       "    <tr>\n",
       "      <th>5</th>\n",
       "      <td>202</td>\n",
       "      <td>Accepted</td>\n",
       "    </tr>\n",
       "    <tr>\n",
       "      <th>6</th>\n",
       "      <td>203</td>\n",
       "      <td>Non-authoritative Information</td>\n",
       "    </tr>\n",
       "    <tr>\n",
       "      <th>7</th>\n",
       "      <td>204</td>\n",
       "      <td>No Content</td>\n",
       "    </tr>\n",
       "    <tr>\n",
       "      <th>8</th>\n",
       "      <td>205</td>\n",
       "      <td>Reset Content</td>\n",
       "    </tr>\n",
       "    <tr>\n",
       "      <th>9</th>\n",
       "      <td>206</td>\n",
       "      <td>Partial Content</td>\n",
       "    </tr>\n",
       "    <tr>\n",
       "      <th>10</th>\n",
       "      <td>207</td>\n",
       "      <td>Multi-Status</td>\n",
       "    </tr>\n",
       "    <tr>\n",
       "      <th>11</th>\n",
       "      <td>208</td>\n",
       "      <td>Already Reported</td>\n",
       "    </tr>\n",
       "    <tr>\n",
       "      <th>12</th>\n",
       "      <td>226</td>\n",
       "      <td>IM Used</td>\n",
       "    </tr>\n",
       "    <tr>\n",
       "      <th>13</th>\n",
       "      <td>300</td>\n",
       "      <td>Multiple Choices</td>\n",
       "    </tr>\n",
       "    <tr>\n",
       "      <th>14</th>\n",
       "      <td>301</td>\n",
       "      <td>Moved Permanently</td>\n",
       "    </tr>\n",
       "    <tr>\n",
       "      <th>15</th>\n",
       "      <td>302</td>\n",
       "      <td>Found</td>\n",
       "    </tr>\n",
       "    <tr>\n",
       "      <th>16</th>\n",
       "      <td>303</td>\n",
       "      <td>See Other</td>\n",
       "    </tr>\n",
       "    <tr>\n",
       "      <th>17</th>\n",
       "      <td>304</td>\n",
       "      <td>Not Modified</td>\n",
       "    </tr>\n",
       "    <tr>\n",
       "      <th>18</th>\n",
       "      <td>305</td>\n",
       "      <td>Use Proxy</td>\n",
       "    </tr>\n",
       "    <tr>\n",
       "      <th>19</th>\n",
       "      <td>307</td>\n",
       "      <td>Temporary Redirect</td>\n",
       "    </tr>\n",
       "    <tr>\n",
       "      <th>20</th>\n",
       "      <td>308</td>\n",
       "      <td>Permanent Redirect</td>\n",
       "    </tr>\n",
       "    <tr>\n",
       "      <th>21</th>\n",
       "      <td>400</td>\n",
       "      <td>Bad Request</td>\n",
       "    </tr>\n",
       "    <tr>\n",
       "      <th>22</th>\n",
       "      <td>401</td>\n",
       "      <td>Unauthorized</td>\n",
       "    </tr>\n",
       "    <tr>\n",
       "      <th>23</th>\n",
       "      <td>402</td>\n",
       "      <td>Payment Required</td>\n",
       "    </tr>\n",
       "    <tr>\n",
       "      <th>24</th>\n",
       "      <td>403</td>\n",
       "      <td>Forbidden</td>\n",
       "    </tr>\n",
       "    <tr>\n",
       "      <th>25</th>\n",
       "      <td>404</td>\n",
       "      <td>Not Found</td>\n",
       "    </tr>\n",
       "    <tr>\n",
       "      <th>26</th>\n",
       "      <td>405</td>\n",
       "      <td>Method Not Allowed</td>\n",
       "    </tr>\n",
       "    <tr>\n",
       "      <th>27</th>\n",
       "      <td>406</td>\n",
       "      <td>Not Acceptable</td>\n",
       "    </tr>\n",
       "    <tr>\n",
       "      <th>28</th>\n",
       "      <td>407</td>\n",
       "      <td>Proxy Authentication Required</td>\n",
       "    </tr>\n",
       "    <tr>\n",
       "      <th>29</th>\n",
       "      <td>408</td>\n",
       "      <td>Request Timeout</td>\n",
       "    </tr>\n",
       "    <tr>\n",
       "      <th>...</th>\n",
       "      <td>...</td>\n",
       "      <td>...</td>\n",
       "    </tr>\n",
       "    <tr>\n",
       "      <th>33</th>\n",
       "      <td>412</td>\n",
       "      <td>Precondition Failed</td>\n",
       "    </tr>\n",
       "    <tr>\n",
       "      <th>34</th>\n",
       "      <td>413</td>\n",
       "      <td>Payload Too Large</td>\n",
       "    </tr>\n",
       "    <tr>\n",
       "      <th>35</th>\n",
       "      <td>414</td>\n",
       "      <td>Request-URI Too Long</td>\n",
       "    </tr>\n",
       "    <tr>\n",
       "      <th>36</th>\n",
       "      <td>415</td>\n",
       "      <td>Unsupported Media Type</td>\n",
       "    </tr>\n",
       "    <tr>\n",
       "      <th>37</th>\n",
       "      <td>416</td>\n",
       "      <td>Requested Range Not Satisfiable</td>\n",
       "    </tr>\n",
       "    <tr>\n",
       "      <th>38</th>\n",
       "      <td>417</td>\n",
       "      <td>Expectation Failed</td>\n",
       "    </tr>\n",
       "    <tr>\n",
       "      <th>39</th>\n",
       "      <td>418</td>\n",
       "      <td>I'm a teapot</td>\n",
       "    </tr>\n",
       "    <tr>\n",
       "      <th>40</th>\n",
       "      <td>421</td>\n",
       "      <td>Misdirected Request</td>\n",
       "    </tr>\n",
       "    <tr>\n",
       "      <th>41</th>\n",
       "      <td>422</td>\n",
       "      <td>Unprocessable Entity</td>\n",
       "    </tr>\n",
       "    <tr>\n",
       "      <th>42</th>\n",
       "      <td>423</td>\n",
       "      <td>Locked</td>\n",
       "    </tr>\n",
       "    <tr>\n",
       "      <th>43</th>\n",
       "      <td>424</td>\n",
       "      <td>Failed Dependency</td>\n",
       "    </tr>\n",
       "    <tr>\n",
       "      <th>44</th>\n",
       "      <td>426</td>\n",
       "      <td>Upgrade Required</td>\n",
       "    </tr>\n",
       "    <tr>\n",
       "      <th>45</th>\n",
       "      <td>428</td>\n",
       "      <td>Precondition Required</td>\n",
       "    </tr>\n",
       "    <tr>\n",
       "      <th>46</th>\n",
       "      <td>429</td>\n",
       "      <td>Too Many Requests</td>\n",
       "    </tr>\n",
       "    <tr>\n",
       "      <th>47</th>\n",
       "      <td>431</td>\n",
       "      <td>Request Header Fields Too Large</td>\n",
       "    </tr>\n",
       "    <tr>\n",
       "      <th>48</th>\n",
       "      <td>444</td>\n",
       "      <td>Connection Closed Without Response</td>\n",
       "    </tr>\n",
       "    <tr>\n",
       "      <th>49</th>\n",
       "      <td>451</td>\n",
       "      <td>Unavailable For Legal Reasons</td>\n",
       "    </tr>\n",
       "    <tr>\n",
       "      <th>50</th>\n",
       "      <td>499</td>\n",
       "      <td>Client Closed Request</td>\n",
       "    </tr>\n",
       "    <tr>\n",
       "      <th>51</th>\n",
       "      <td>500</td>\n",
       "      <td>Internal Server Error</td>\n",
       "    </tr>\n",
       "    <tr>\n",
       "      <th>52</th>\n",
       "      <td>501</td>\n",
       "      <td>Not Implemented</td>\n",
       "    </tr>\n",
       "    <tr>\n",
       "      <th>53</th>\n",
       "      <td>502</td>\n",
       "      <td>Bad Gateway</td>\n",
       "    </tr>\n",
       "    <tr>\n",
       "      <th>54</th>\n",
       "      <td>503</td>\n",
       "      <td>Service Unavailable</td>\n",
       "    </tr>\n",
       "    <tr>\n",
       "      <th>55</th>\n",
       "      <td>504</td>\n",
       "      <td>Gateway Timeout</td>\n",
       "    </tr>\n",
       "    <tr>\n",
       "      <th>56</th>\n",
       "      <td>505</td>\n",
       "      <td>HTTP Version Not Supported</td>\n",
       "    </tr>\n",
       "    <tr>\n",
       "      <th>57</th>\n",
       "      <td>506</td>\n",
       "      <td>Variant Also Negotiates</td>\n",
       "    </tr>\n",
       "    <tr>\n",
       "      <th>58</th>\n",
       "      <td>507</td>\n",
       "      <td>Insufficient Storage</td>\n",
       "    </tr>\n",
       "    <tr>\n",
       "      <th>59</th>\n",
       "      <td>508</td>\n",
       "      <td>Loop Detected</td>\n",
       "    </tr>\n",
       "    <tr>\n",
       "      <th>60</th>\n",
       "      <td>510</td>\n",
       "      <td>Not Extended</td>\n",
       "    </tr>\n",
       "    <tr>\n",
       "      <th>61</th>\n",
       "      <td>511</td>\n",
       "      <td>Network Authentication Required</td>\n",
       "    </tr>\n",
       "    <tr>\n",
       "      <th>62</th>\n",
       "      <td>599</td>\n",
       "      <td>Network Connect Timeout Error</td>\n",
       "    </tr>\n",
       "  </tbody>\n",
       "</table>\n",
       "<p>63 rows × 2 columns</p>\n",
       "</div>"
      ],
      "text/plain": [
       "    Code                         Description\n",
       "0    100                            Continue\n",
       "1    101                 Switching Protocols\n",
       "2    102                          Processing\n",
       "3    200                                  OK\n",
       "4    201                             Created\n",
       "5    202                            Accepted\n",
       "6    203       Non-authoritative Information\n",
       "7    204                          No Content\n",
       "8    205                       Reset Content\n",
       "9    206                     Partial Content\n",
       "10   207                        Multi-Status\n",
       "11   208                    Already Reported\n",
       "12   226                             IM Used\n",
       "13   300                    Multiple Choices\n",
       "14   301                   Moved Permanently\n",
       "15   302                               Found\n",
       "16   303                           See Other\n",
       "17   304                        Not Modified\n",
       "18   305                           Use Proxy\n",
       "19   307                  Temporary Redirect\n",
       "20   308                  Permanent Redirect\n",
       "21   400                         Bad Request\n",
       "22   401                        Unauthorized\n",
       "23   402                    Payment Required\n",
       "24   403                           Forbidden\n",
       "25   404                           Not Found\n",
       "26   405                  Method Not Allowed\n",
       "27   406                      Not Acceptable\n",
       "28   407       Proxy Authentication Required\n",
       "29   408                     Request Timeout\n",
       "..   ...                                 ...\n",
       "33   412                 Precondition Failed\n",
       "34   413                   Payload Too Large\n",
       "35   414                Request-URI Too Long\n",
       "36   415              Unsupported Media Type\n",
       "37   416     Requested Range Not Satisfiable\n",
       "38   417                  Expectation Failed\n",
       "39   418                        I'm a teapot\n",
       "40   421                 Misdirected Request\n",
       "41   422                Unprocessable Entity\n",
       "42   423                              Locked\n",
       "43   424                   Failed Dependency\n",
       "44   426                    Upgrade Required\n",
       "45   428               Precondition Required\n",
       "46   429                   Too Many Requests\n",
       "47   431     Request Header Fields Too Large\n",
       "48   444  Connection Closed Without Response\n",
       "49   451       Unavailable For Legal Reasons\n",
       "50   499               Client Closed Request\n",
       "51   500               Internal Server Error\n",
       "52   501                     Not Implemented\n",
       "53   502                         Bad Gateway\n",
       "54   503                 Service Unavailable\n",
       "55   504                     Gateway Timeout\n",
       "56   505          HTTP Version Not Supported\n",
       "57   506             Variant Also Negotiates\n",
       "58   507                Insufficient Storage\n",
       "59   508                       Loop Detected\n",
       "60   510                        Not Extended\n",
       "61   511     Network Authentication Required\n",
       "62   599       Network Connect Timeout Error\n",
       "\n",
       "[63 rows x 2 columns]"
      ]
     },
     "execution_count": 107,
     "metadata": {},
     "output_type": "execute_result"
    }
   ],
   "source": [
    "pd.read_excel('../data/https_status_codes.xlsx')"
   ]
  },
  {
   "cell_type": "code",
   "execution_count": null,
   "metadata": {
    "slideshow": {
     "slide_type": "skip"
    }
   },
   "outputs": [],
   "source": []
  }
 ],
 "metadata": {
  "celltoolbar": "Slideshow",
  "kernelspec": {
   "display_name": "Python 3",
   "language": "python",
   "name": "python3"
  },
  "language_info": {
   "codemirror_mode": {
    "name": "ipython",
    "version": 3
   },
   "file_extension": ".py",
   "mimetype": "text/x-python",
   "name": "python",
   "nbconvert_exporter": "python",
   "pygments_lexer": "ipython3",
   "version": "3.6.3"
  }
 },
 "nbformat": 4,
 "nbformat_minor": 2
}
