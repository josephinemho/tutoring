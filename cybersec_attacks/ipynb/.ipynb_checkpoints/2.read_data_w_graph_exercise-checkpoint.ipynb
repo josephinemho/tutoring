{
 "cells": [
  {
   "cell_type": "markdown",
   "metadata": {},
   "source": [
    "## Task: Read a txt file in Python"
   ]
  },
  {
   "cell_type": "markdown",
   "metadata": {},
   "source": [
    "There are many ways to read and write files. Instead of importing a library (e.g. Pandas), we will use Python's built-in ***open*** function to get a file object.\n",
    "\n",
    "The syntax to open a file object in Python is: <br>\n",
    "`file_object  = open(“filename”, “mode”)` <br>\n",
    "***File_object*** is the variable you're assigning the file to and ***mode*** tells the interpreter how to use the file: \n",
    "\n",
    "- ‘r’ – Read mode\n",
    "- ‘w’ – Write mode (edit and write new information to the file)\n",
    "- ‘a’ – Append mode (add new data to the end of the file)\n",
    "- ‘r+’ – Special read and write mode (handle both actions when working with a file)"
   ]
  },
  {
   "cell_type": "code",
   "execution_count": 1,
   "metadata": {},
   "outputs": [],
   "source": [
    "external_sites = open('../data/external_sites.txt', 'r')"
   ]
  },
  {
   "cell_type": "code",
   "execution_count": 3,
   "metadata": {},
   "outputs": [],
   "source": [
    "external_sites_list = external_sites.read().splitlines()"
   ]
  },
  {
   "cell_type": "code",
   "execution_count": 8,
   "metadata": {},
   "outputs": [],
   "source": [
    "url_list = []\n",
    "for row in external_sites_list:\n",
    "    url_list.append(\"https://\" + row)"
   ]
  },
  {
   "cell_type": "code",
   "execution_count": 9,
   "metadata": {
    "scrolled": true
   },
   "outputs": [
    {
     "data": {
      "text/plain": [
       "['https://abc.jpl.nasa.gov',\n",
       " 'https://abclab.jpl.nasa.gov',\n",
       " 'https://acce-ops.jpl.nasa.gov',\n",
       " 'https://acce.jpl.nasa.gov',\n",
       " 'https://accellion.jpl.nasa.gov',\n",
       " 'https://acquisition.jpl.nasa.gov',\n",
       " 'https://acquisitions.jpl.nasa.gov',\n",
       " 'https://aeolus.jpl.nasa.gov',\n",
       " 'https://aggregate.jpl.nasa.gov',\n",
       " 'https://ai.jpl.nasa.gov',\n",
       " 'https://airbornescience.jpl.nasa.gov',\n",
       " 'https://airflip.jpl.nasa.gov',\n",
       " 'https://airsar-t.jpl.nasa.gov',\n",
       " 'https://airsar.jpl.nasa.gov',\n",
       " 'https://airsnrt.jpl.nasa.gov',\n",
       " 'https://airsteam.jpl.nasa.gov',\n",
       " 'https://airswot.jpl.nasa.gov',\n",
       " 'https://aitest.jpl.nasa.gov',\n",
       " 'https://aiweb.jpl.nasa.gov',\n",
       " 'https://akana-ext.jpl.nasa.gov',\n",
       " 'https://akana-intext.jpl.nasa.gov',\n",
       " 'https://alhat.jpl.nasa.gov',\n",
       " 'https://amfs1-webdav.jpl.nasa.gov',\n",
       " 'https://amfs1.jpl.nasa.gov',\n",
       " 'https://ammos.jpl.nasa.gov',\n",
       " 'https://analogs.jpl.nasa.gov',\n",
       " 'https://ao.jpl.nasa.gov',\n",
       " 'https://appell.jpl.nasa.gov',\n",
       " 'https://apps-ldt.jpl.nasa.gov',\n",
       " 'https://apps-sishub.jpl.nasa.gov',\n",
       " 'https://arcadia.jpl.nasa.gov',\n",
       " 'https://argo.jpl.nasa.gov',\n",
       " 'https://aria-csk-dav.jpl.nasa.gov',\n",
       " 'https://aria-dap.jpl.nasa.gov',\n",
       " 'https://aria-dav-pub.jpl.nasa.gov',\n",
       " 'https://aria-dav.jpl.nasa.gov',\n",
       " 'https://aria-puccini.jpl.nasa.gov',\n",
       " 'https://aria-qa.jpl.nasa.gov',\n",
       " 'https://aria-search-gamma.jpl.nasa.gov',\n",
       " 'https://aria-search.jpl.nasa.gov',\n",
       " 'https://aria-share.jpl.nasa.gov',\n",
       " 'https://aria-timeseries.jpl.nasa.gov',\n",
       " 'https://aria-wiki.jpl.nasa.gov',\n",
       " 'https://aria.jpl.nasa.gov',\n",
       " 'https://aria1-dav.jpl.nasa.gov',\n",
       " 'https://aria1.jpl.nasa.gov',\n",
       " 'https://aria2-dav.jpl.nasa.gov',\n",
       " 'https://asc.jpl.nasa.gov',\n",
       " 'https://ase.jpl.nasa.gov',\n",
       " 'https://aso-log.jpl.nasa.gov']"
      ]
     },
     "execution_count": 9,
     "metadata": {},
     "output_type": "execute_result"
    }
   ],
   "source": [
    "url_list"
   ]
  },
  {
   "cell_type": "markdown",
   "metadata": {},
   "source": [
    "## Task: Use `requests.get()` to call on all URLs to get the response code"
   ]
  },
  {
   "cell_type": "markdown",
   "metadata": {},
   "source": [
    "First, let's build out our script for `requests.get()`"
   ]
  },
  {
   "cell_type": "code",
   "execution_count": 6,
   "metadata": {},
   "outputs": [],
   "source": [
    "import requests"
   ]
  },
  {
   "cell_type": "code",
   "execution_count": 10,
   "metadata": {},
   "outputs": [],
   "source": [
    "r = requests.get('https://abclab.jpl.nasa.gov')"
   ]
  },
  {
   "cell_type": "code",
   "execution_count": 11,
   "metadata": {},
   "outputs": [
    {
     "data": {
      "text/plain": [
       "200"
      ]
     },
     "execution_count": 11,
     "metadata": {},
     "output_type": "execute_result"
    }
   ],
   "source": [
    "r.status_code"
   ]
  },
  {
   "cell_type": "markdown",
   "metadata": {},
   "source": [
    "Awesome! Now let's put it all together using a for-loop. We want to have ***one*** chunk of code that does all the work for us."
   ]
  },
  {
   "cell_type": "code",
   "execution_count": 26,
   "metadata": {
    "scrolled": true
   },
   "outputs": [
    {
     "name": "stdout",
     "output_type": "stream",
     "text": [
      "Success for https://abc.jpl.nasa.gov\n",
      "Success for https://abclab.jpl.nasa.gov\n",
      "Success for https://acce-ops.jpl.nasa.gov\n",
      "Success for https://acce.jpl.nasa.gov\n",
      "Success for https://accellion.jpl.nasa.gov\n",
      "Success for https://acquisition.jpl.nasa.gov\n",
      "Success for https://acquisitions.jpl.nasa.gov\n",
      "Success for https://aeolus.jpl.nasa.gov\n",
      "Success for https://aggregate.jpl.nasa.gov\n",
      "Error for https://ai.jpl.nasa.gov\n",
      "Success for https://airbornescience.jpl.nasa.gov\n",
      "Success for https://airflip.jpl.nasa.gov\n",
      "Success for https://airsar-t.jpl.nasa.gov\n",
      "Success for https://airsar.jpl.nasa.gov\n",
      "Success for https://airsnrt.jpl.nasa.gov\n",
      "Success for https://airsteam.jpl.nasa.gov\n",
      "Success for https://airswot.jpl.nasa.gov\n",
      "Error for https://aitest.jpl.nasa.gov\n",
      "Error for https://aiweb.jpl.nasa.gov\n",
      "Success for https://akana-ext.jpl.nasa.gov\n",
      "Success for https://akana-intext.jpl.nasa.gov\n",
      "Success for https://alhat.jpl.nasa.gov\n",
      "Success for https://amfs1-webdav.jpl.nasa.gov\n",
      "Success for https://amfs1.jpl.nasa.gov\n",
      "Success for https://ammos.jpl.nasa.gov\n",
      "Success for https://analogs.jpl.nasa.gov\n",
      "Success for https://ao.jpl.nasa.gov\n",
      "Success for https://appell.jpl.nasa.gov\n",
      "Success for https://apps-ldt.jpl.nasa.gov\n",
      "Success for https://apps-sishub.jpl.nasa.gov\n",
      "Error for https://arcadia.jpl.nasa.gov\n",
      "Success for https://argo.jpl.nasa.gov\n",
      "Success for https://aria-csk-dav.jpl.nasa.gov\n",
      "Success for https://aria-dap.jpl.nasa.gov\n",
      "Success for https://aria-dav-pub.jpl.nasa.gov\n",
      "Success for https://aria-dav.jpl.nasa.gov\n",
      "Success for https://aria-puccini.jpl.nasa.gov\n",
      "Success for https://aria-qa.jpl.nasa.gov\n",
      "Success for https://aria-search-gamma.jpl.nasa.gov\n",
      "Success for https://aria-search.jpl.nasa.gov\n",
      "Success for https://aria-share.jpl.nasa.gov\n",
      "Success for https://aria-timeseries.jpl.nasa.gov\n",
      "Success for https://aria-wiki.jpl.nasa.gov\n",
      "Success for https://aria.jpl.nasa.gov\n",
      "Success for https://aria1-dav.jpl.nasa.gov\n",
      "Success for https://aria1.jpl.nasa.gov\n",
      "Success for https://aria2-dav.jpl.nasa.gov\n",
      "Error for https://asc.jpl.nasa.gov\n",
      "Error for https://ase.jpl.nasa.gov\n",
      "Success for https://aso-log.jpl.nasa.gov\n"
     ]
    }
   ],
   "source": [
    "status_code_list = []\n",
    "for row in url_list:\n",
    "    try:\n",
    "        r = requests.get(row)\n",
    "        status_code_list.append(r.status_code)\n",
    "        print(\"Success for \" + row)\n",
    "    except:\n",
    "        status_code_list.append(\"ERROR\")\n",
    "        print(\"Error for \" + row)"
   ]
  },
  {
   "cell_type": "code",
   "execution_count": 27,
   "metadata": {},
   "outputs": [
    {
     "data": {
      "text/plain": [
       "50"
      ]
     },
     "execution_count": 27,
     "metadata": {},
     "output_type": "execute_result"
    }
   ],
   "source": [
    "len(status_code_list)"
   ]
  },
  {
   "cell_type": "code",
   "execution_count": 28,
   "metadata": {},
   "outputs": [
    {
     "data": {
      "text/plain": [
       "50"
      ]
     },
     "execution_count": 28,
     "metadata": {},
     "output_type": "execute_result"
    }
   ],
   "source": [
    "len(url_list)"
   ]
  },
  {
   "cell_type": "code",
   "execution_count": 51,
   "metadata": {},
   "outputs": [],
   "source": [
    "for i in range(0,50):\n",
    "    url_response_dict = {\n",
    "        'website': url_list,\n",
    "        'status_code': status_code_list\n",
    "    }"
   ]
  },
  {
   "cell_type": "markdown",
   "metadata": {},
   "source": [
    "## Task: Export dictionary"
   ]
  },
  {
   "cell_type": "code",
   "execution_count": 54,
   "metadata": {},
   "outputs": [],
   "source": []
  },
  {
   "cell_type": "code",
   "execution_count": 55,
   "metadata": {},
   "outputs": [
    {
     "data": {
      "text/plain": [
       "['../data/url_response_dict']"
      ]
     },
     "execution_count": 55,
     "metadata": {},
     "output_type": "execute_result"
    }
   ],
   "source": []
  },
  {
   "cell_type": "markdown",
   "metadata": {},
   "source": [
    "# Display the dictionary in a dataframe format\n",
    "Using Pandas."
   ]
  },
  {
   "cell_type": "code",
   "execution_count": 36,
   "metadata": {},
   "outputs": [],
   "source": []
  },
  {
   "cell_type": "code",
   "execution_count": null,
   "metadata": {},
   "outputs": [],
   "source": []
  },
  {
   "cell_type": "markdown",
   "metadata": {},
   "source": [
    "Now that you have your results in a dataframe, you can do analysis of your data (just like anything you would do in Excel)."
   ]
  },
  {
   "cell_type": "code",
   "execution_count": null,
   "metadata": {},
   "outputs": [],
   "source": []
  },
  {
   "cell_type": "code",
   "execution_count": null,
   "metadata": {},
   "outputs": [],
   "source": []
  },
  {
   "cell_type": "markdown",
   "metadata": {},
   "source": [
    "# Graph using matplotlib"
   ]
  },
  {
   "cell_type": "code",
   "execution_count": 96,
   "metadata": {},
   "outputs": [],
   "source": [
    "import matplotlib.pyplot as plt\n",
    "import numpy as np"
   ]
  },
  {
   "cell_type": "code",
   "execution_count": null,
   "metadata": {},
   "outputs": [],
   "source": []
  }
 ],
 "metadata": {
  "kernelspec": {
   "display_name": "Python 3",
   "language": "python",
   "name": "python3"
  },
  "language_info": {
   "codemirror_mode": {
    "name": "ipython",
    "version": 3
   },
   "file_extension": ".py",
   "mimetype": "text/x-python",
   "name": "python",
   "nbconvert_exporter": "python",
   "pygments_lexer": "ipython3",
   "version": "3.6.3"
  }
 },
 "nbformat": 4,
 "nbformat_minor": 2
}
