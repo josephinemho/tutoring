{
 "cells": [
  {
   "cell_type": "markdown",
   "metadata": {
    "slideshow": {
     "slide_type": "slide"
    }
   },
   "source": [
    "# This is a presentation"
   ]
  },
  {
   "cell_type": "markdown",
   "metadata": {
    "slideshow": {
     "slide_type": "subslide"
    }
   },
   "source": [
    "# Formatting in Jupyter\n",
    "\n",
    "Jupyter is a great place for presentations too, because you can `write inline code`, format text *like this,* **like this,** <u>like this,</u> and ~~like this~~.\n",
    "```\n",
    "You can also write lots and lots and lots and lots and lots and lots and lots and lots and lots and lots and lots and lots and lots and lots and lots and lots and lots and lots and lots and lots and lots and lots and lots and lots and lots and lots of code \n",
    "\n",
    "(this is called a block of code)\n",
    "```"
   ]
  },
  {
   "cell_type": "markdown",
   "metadata": {
    "slideshow": {
     "slide_type": "slide"
    }
   },
   "source": [
    "# Blockquotes\n",
    "\n",
    "> You can also use \n",
    "> blockquotes\n",
    "\n",
    "This is a break\n",
    "\n",
    "> Here is another blockquote <br>\n",
    "> Blah blah blah <br>\n",
    "> Blah blah <br>\n",
    "> Blah"
   ]
  },
  {
   "cell_type": "markdown",
   "metadata": {
    "slideshow": {
     "slide_type": "slide"
    }
   },
   "source": [
    "# There are also\n",
    "## different header\n",
    "---\n",
    "### styles & sizes"
   ]
  },
  {
   "cell_type": "markdown",
   "metadata": {
    "slideshow": {
     "slide_type": "slide"
    }
   },
   "source": [
    "# Number & bullet points\n",
    "\n",
    "* And\n",
    " * bulletpoints\n",
    "\n",
    "\n",
    "1. Numbers\n",
    "2. Or even\n",
    " * both!"
   ]
  },
  {
   "cell_type": "markdown",
   "metadata": {
    "slideshow": {
     "slide_type": "slide"
    }
   },
   "source": [
    "# Links & images\n",
    "\n",
    "[Links work too](https://www.google.com)\n",
    "\n",
    "And so do images: \n",
    "![alt text](https://github.com/adam-p/markdown-here/raw/master/src/common/images/icon48.png \"Image caption here\")"
   ]
  },
  {
   "cell_type": "markdown",
   "metadata": {
    "slideshow": {
     "slide_type": "slide"
    }
   },
   "source": [
    "# Code\n",
    "\n",
    "```python\n",
    "\"Also if you're writing code, you can specify the language and markdown will highlight syntax correctly\"\n",
    "variable = 2*10\n",
    "print(variable)\n",
    "```"
   ]
  },
  {
   "cell_type": "markdown",
   "metadata": {
    "slideshow": {
     "slide_type": "slide"
    }
   },
   "source": [
    "# Tables are also awesome\n",
    "Colons can be used to align columns.\n",
    "\n",
    "| Tables        | Are           | Cool  |\n",
    "| ------------- |:-------------:| -----:|\n",
    "| col 3 is      | right-aligned |  cool |\n",
    "| col 2 is      | centered      |  cool |\n",
    "| zebra stripes | are neat      |  cool |"
   ]
  },
  {
   "cell_type": "code",
   "execution_count": 1,
   "metadata": {
    "slideshow": {
     "slide_type": "slide"
    }
   },
   "outputs": [
    {
     "name": "stdout",
     "output_type": "stream",
     "text": [
      "Jade the Programmer of 28 years\n"
     ]
    }
   ],
   "source": [
    "# Most importantly, you can run Python code:\n",
    "name = \"Jade\"\n",
    "job = \"Programmer\"\n",
    "\n",
    "\n",
    "age = 28\n",
    "title = \"{} the {} of {} years\".format(name, job, age)\n",
    "print(title)"
   ]
  }
 ],
 "metadata": {
  "kernelspec": {
   "display_name": "Python 3",
   "language": "python",
   "name": "python3"
  },
  "language_info": {
   "codemirror_mode": {
    "name": "ipython",
    "version": 3
   },
   "file_extension": ".py",
   "mimetype": "text/x-python",
   "name": "python",
   "nbconvert_exporter": "python",
   "pygments_lexer": "ipython3",
   "version": "3.6.3"
  }
 },
 "nbformat": 4,
 "nbformat_minor": 2
}
